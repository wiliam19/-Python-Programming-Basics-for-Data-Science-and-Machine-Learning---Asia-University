{
 "cells": [
  {
   "cell_type": "markdown",
   "metadata": {
    "colab_type": "text",
    "id": "lGr-I3gy0eIj"
   },
   "source": [
    "# (4)-SQLite Input/Output\n"
   ]
  },
  {
   "cell_type": "code",
   "execution_count": null,
   "metadata": {},
   "outputs": [],
   "source": [
    "import sqlite3\n",
    "con = sqlite3.connect('score.db')"
   ]
  },
  {
   "cell_type": "code",
   "execution_count": null,
   "metadata": {},
   "outputs": [],
   "source": [
    "cur = con.cursor()\n",
    "# Create table\n",
    "cur.execute('''CREATE TABLE score\n",
    "               (math integer, biology integer, average real)''')"
   ]
  },
  {
   "cell_type": "code",
   "execution_count": null,
   "metadata": {},
   "outputs": [],
   "source": [
    "#Read data from score.csv and Calculate the average score\n",
    "import csv\n",
    "with open('score.csv', newline='') as fin:\n",
    "    csvreader = csv.reader(fin)\n",
    "    for row in csvreader:\n",
    "        math, biology = map(int,row)\n",
    "        average = (math+biology)/2\n",
    "        print(f\"{math:>2} {biology:>2} {average:>4.1f}\")"
   ]
  },
  {
   "cell_type": "code",
   "execution_count": null,
   "metadata": {
    "colab": {},
    "colab_type": "code",
    "id": "18DYGHG70bxd"
   },
   "outputs": [],
   "source": [
    "#Read data from score.csv and Calculate the average score\n",
    "import csv\n",
    "with open('score.csv', newline='') as fin:\n",
    "    csvreader = csv.reader(fin)\n",
    "    for row in csvreader:\n",
    "        math, biology = map(int,row)\n",
    "        average = (math+biology)/2\n",
    "        #print(f\"{math:>2} {biology:>2} {average:>4.1f}\")\n",
    "        \n",
    "        # Insert a row of data\n",
    "        cur.execute(f\"INSERT INTO score VALUES ({math},{biology}, {average})\")\n",
    "\n",
    "# Save (commit) the changes\n",
    "con.commit()\n",
    "\n",
    "# We can also close the connection if we are done with it.\n",
    "# Just be sure any changes have been committed or they will be lost.\n",
    "con.close()"
   ]
  },
  {
   "cell_type": "code",
   "execution_count": null,
   "metadata": {
    "colab": {},
    "colab_type": "code",
    "id": "lZ8GO3FK01kw"
   },
   "outputs": [],
   "source": [
    "#Read data from score.db and print the first \n",
    "import sqlite3\n",
    "con = sqlite3.connect('score.db')\n",
    "cur = con.cursor()\n",
    "cur.execute('SELECT * FROM score')\n",
    "print(cur.fetchone())\n",
    "con.close()"
   ]
  },
  {
   "cell_type": "code",
   "execution_count": null,
   "metadata": {},
   "outputs": [],
   "source": [
    "#Read data from score.db and print all scores \n",
    "import sqlite3\n",
    "con = sqlite3.connect('score.db')\n",
    "cur = con.cursor()\n",
    "cur.execute('SELECT * FROM score')\n",
    "print(cur.fetchall())\n",
    "con.close()"
   ]
  },
  {
   "cell_type": "code",
   "execution_count": null,
   "metadata": {},
   "outputs": [],
   "source": [
    "#Read data from score.db and print the passed \n",
    "import sqlite3\n",
    "con = sqlite3.connect('score.db')\n",
    "cur = con.cursor()\n",
    "cur.execute('SELECT * FROM score WHERE average >=60')\n",
    "print(cur.fetchall())\n",
    "con.close()"
   ]
  },
  {
   "cell_type": "code",
   "execution_count": null,
   "metadata": {},
   "outputs": [],
   "source": [
    "#Read data from score.db and list the scores\n",
    "import sqlite3\n",
    "con = sqlite3.connect('score.db')\n",
    "cur = con.cursor()\n",
    "for row in cur.execute('SELECT * FROM score'):\n",
    "    print(row)"
   ]
  },
  {
   "cell_type": "code",
   "execution_count": null,
   "metadata": {},
   "outputs": [],
   "source": [
    "#Read data from score.db and list the scores\n",
    "import sqlite3\n",
    "con = sqlite3.connect('score.db')\n",
    "cur = con.cursor()\n",
    "for math, biology, average in cur.execute('SELECT * FROM score'):\n",
    "    print(f\"{math:>2} {biology:>2} {average:>4.1f}\")"
   ]
  },
  {
   "cell_type": "markdown",
   "metadata": {},
   "source": [
    "## Exercise: Read data from score.db and print math >=60 & biology <60"
   ]
  },
  {
   "cell_type": "code",
   "execution_count": null,
   "metadata": {
    "colab": {},
    "colab_type": "code",
    "id": "C_0OInXq031l"
   },
   "outputs": [],
   "source": []
  },
  {
   "cell_type": "markdown",
   "metadata": {},
   "source": [
    "## Exercise: list the scores from score.db ordered by ascending math score"
   ]
  },
  {
   "cell_type": "code",
   "execution_count": null,
   "metadata": {},
   "outputs": [],
   "source": []
  }
 ],
 "metadata": {
  "colab": {
   "name": "Demo3-2.ipynb",
   "provenance": [],
   "version": "0.3.2"
  },
  "kernelspec": {
   "display_name": "Python 3",
   "language": "python",
   "name": "python3"
  },
  "language_info": {
   "codemirror_mode": {
    "name": "ipython",
    "version": 3
   },
   "file_extension": ".py",
   "mimetype": "text/x-python",
   "name": "python",
   "nbconvert_exporter": "python",
   "pygments_lexer": "ipython3",
   "version": "3.7.6"
  }
 },
 "nbformat": 4,
 "nbformat_minor": 1
}
