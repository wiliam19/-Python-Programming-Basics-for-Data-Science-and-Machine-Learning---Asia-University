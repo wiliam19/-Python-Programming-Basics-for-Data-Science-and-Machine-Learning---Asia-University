{
  "nbformat": 4,
  "nbformat_minor": 0,
  "metadata": {
    "colab": {
      "name": "FoliumEssentials.ipynb",
      "provenance": [],
      "collapsed_sections": []
    },
    "kernelspec": {
      "name": "python3",
      "display_name": "Python 3"
    },
    "language_info": {
      "name": "python"
    }
  },
  "cells": [
    {
      "cell_type": "markdown",
      "metadata": {
        "id": "0Ky2nTcplDmM"
      },
      "source": [
        "# Folium Essentials"
      ]
    },
    {
      "cell_type": "markdown",
      "metadata": {
        "id": "rnSPA0UilfSu"
      },
      "source": [
        "## Step 1: starting coordinates to Folium"
      ]
    },
    {
      "cell_type": "code",
      "metadata": {
        "id": "Y1vfMbk-kuzS"
      },
      "source": [
        ""
      ],
      "execution_count": null,
      "outputs": []
    },
    {
      "cell_type": "markdown",
      "metadata": {
        "id": "3t0ePH-vlDs4"
      },
      "source": [
        "## Step 2: Markers"
      ]
    },
    {
      "cell_type": "code",
      "metadata": {
        "id": "30N7cGc-lpv8"
      },
      "source": [
        ""
      ],
      "execution_count": null,
      "outputs": []
    },
    {
      "cell_type": "markdown",
      "metadata": {
        "id": "TrON2gvDlqKS"
      },
      "source": [
        "## Step 3:  Choropleth map"
      ]
    },
    {
      "cell_type": "code",
      "metadata": {
        "id": "4axWFl9ulzyZ"
      },
      "source": [
        ""
      ],
      "execution_count": null,
      "outputs": []
    },
    {
      "cell_type": "markdown",
      "metadata": {
        "id": "2L2_ajPymG_7"
      },
      "source": [
        "## Step 4: Styling function"
      ]
    },
    {
      "cell_type": "code",
      "metadata": {
        "id": "U2Ey8IAUmq_j"
      },
      "source": [
        ""
      ],
      "execution_count": null,
      "outputs": []
    },
    {
      "cell_type": "markdown",
      "metadata": {
        "id": "22AZPqIwmsOT"
      },
      "source": [
        "## Step 5: GeoJSON and choropleth"
      ]
    },
    {
      "cell_type": "code",
      "metadata": {
        "id": "4KeRY4YPmI8N"
      },
      "source": [
        ""
      ],
      "execution_count": null,
      "outputs": []
    },
    {
      "cell_type": "markdown",
      "metadata": {
        "id": "5z7s-VUQmJVE"
      },
      "source": [
        "## Step 6 HeatMapWithTime Plugin"
      ]
    },
    {
      "cell_type": "code",
      "metadata": {
        "id": "GAx5ZxmnmhW7"
      },
      "source": [
        ""
      ],
      "execution_count": null,
      "outputs": []
    }
  ]
}