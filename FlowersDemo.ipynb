{
  "nbformat": 4,
  "nbformat_minor": 0,
  "metadata": {
    "colab": {
      "name": "FlowersDemo.ipynb",
      "provenance": []
    },
    "kernelspec": {
      "name": "python3",
      "display_name": "Python 3"
    },
    "language_info": {
      "name": "python"
    }
  },
  "cells": [
    {
      "cell_type": "code",
      "metadata": {
        "id": "N71azbXuNrFA"
      },
      "source": [
        "from google.colab import drive\n",
        "drive.mount('/content/drive')"
      ],
      "execution_count": null,
      "outputs": []
    },
    {
      "cell_type": "code",
      "metadata": {
        "id": "svyAN3QCO-yD"
      },
      "source": [
        "!ls /content/drive/MyDrive/kaggle"
      ],
      "execution_count": null,
      "outputs": []
    },
    {
      "cell_type": "markdown",
      "metadata": {
        "id": "zl1iowo2Ps1g"
      },
      "source": [
        "https://drive.google.com/file/d/1qY0uUALVVUHSVXtOpUE_0EoB9b9Laob6/view?usp=sharing"
      ]
    },
    {
      "cell_type": "code",
      "metadata": {
        "id": "af5t6NIFPruV"
      },
      "source": [
        "from google_drive_downloader import GoogleDriveDownloader"
      ],
      "execution_count": null,
      "outputs": []
    },
    {
      "cell_type": "code",
      "metadata": {
        "id": "VtDNYgfpQMbo"
      },
      "source": [
        "GoogleDriveDownloader.download_file_from_google_drive(file_id='1qY0uUALVVUHSVXtOpUE_0EoB9b9Laob6',dest_path='./content', unzip=True)"
      ],
      "execution_count": null,
      "outputs": []
    },
    {
      "cell_type": "markdown",
      "metadata": {
        "id": "Bfsuu1oWQPaF"
      },
      "source": [
        "100080576_f52e8ee070_n.jpg    3456403987_5bd5fa6ece_n.jpg\n",
        "10140303196_b88d3d6cec.jpg    34566613262_fefbcc279a_n.jpg"
      ]
    },
    {
      "cell_type": "code",
      "metadata": {
        "id": "uB3WeNv_Qr5t"
      },
      "source": [
        "import numpy as np\n",
        "from PIL import Image\n",
        "from IPython.display import display\n"
      ],
      "execution_count": null,
      "outputs": []
    },
    {
      "cell_type": "code",
      "metadata": {
        "id": "uXbaUVm0Q0ul"
      },
      "source": [
        "!ls flowers/daisy"
      ],
      "execution_count": null,
      "outputs": []
    },
    {
      "cell_type": "code",
      "metadata": {
        "id": "nX3VhOSlQvbi"
      },
      "source": [
        "my_image = Image.open('flowers/daisy/100080576_f52e8ee070_n.jpg')\n",
        "#my_image=my_image.resize((512, 512))\n",
        "display(my_image)"
      ],
      "execution_count": null,
      "outputs": []
    },
    {
      "cell_type": "code",
      "metadata": {
        "id": "vP7WE9L-R0nJ"
      },
      "source": [
        "type(my_image)"
      ],
      "execution_count": null,
      "outputs": []
    },
    {
      "cell_type": "code",
      "metadata": {
        "id": "bUGNjZpPRnOs"
      },
      "source": [
        "import numpy as np\n",
        "import matplotlib.pyplot as plt\n",
        "from matplotlib.image import imread"
      ],
      "execution_count": null,
      "outputs": []
    },
    {
      "cell_type": "code",
      "metadata": {
        "id": "XmdYPGsvRrAF"
      },
      "source": [
        "im = imread('flowers/daisy/100080576_f52e8ee070_n.jpg')"
      ],
      "execution_count": null,
      "outputs": []
    },
    {
      "cell_type": "code",
      "metadata": {
        "id": "ZduSd2-NSCXh"
      },
      "source": [
        "type(im)"
      ],
      "execution_count": null,
      "outputs": []
    },
    {
      "cell_type": "code",
      "metadata": {
        "id": "N_4KPlgrSMhJ"
      },
      "source": [
        "im.shape"
      ],
      "execution_count": null,
      "outputs": []
    },
    {
      "cell_type": "code",
      "metadata": {
        "id": "P_VmGeP6Skz9"
      },
      "source": [
        "plt.imshow(im)"
      ],
      "execution_count": null,
      "outputs": []
    },
    {
      "cell_type": "code",
      "metadata": {
        "id": "CYIFS-BASq1z"
      },
      "source": [
        "plt.imshow(im, cmap=plt.cm.binary)"
      ],
      "execution_count": null,
      "outputs": []
    }
  ]
}