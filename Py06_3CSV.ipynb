{
 "cells": [
  {
   "cell_type": "markdown",
   "metadata": {
    "colab_type": "text",
    "id": "lGr-I3gy0eIj"
   },
   "source": [
    "# (3)-CSV File Input/Output\n"
   ]
  },
  {
   "cell_type": "code",
   "execution_count": 2,
   "metadata": {
    "colab": {},
    "colab_type": "code",
    "id": "18DYGHG70bxd"
   },
   "outputs": [
    {
     "name": "stdout",
     "output_type": "stream",
     "text": [
      "85, 77\n",
      "15, 34\n",
      "80, 66\n",
      "80, 89\n",
      "77, 74\n",
      "76, 90\n",
      "47, 55\n",
      "48, 66\n",
      "50, 78\n",
      "53, 56\n",
      "88, 77\n",
      "90, 69\n",
      "75, 88\n",
      "67, 55\n",
      "79, 56\n",
      "76, 88\n",
      "92, 98\n",
      "90, 67\n",
      "93, 82\n"
     ]
    }
   ],
   "source": [
    "#Read data from score.csv and print it \n",
    "import csv\n",
    "with open('score.csv', newline='') as fin:\n",
    "    for line in fin:\n",
    "        print(line.strip())"
   ]
  },
  {
   "cell_type": "code",
   "execution_count": 3,
   "metadata": {
    "colab": {},
    "colab_type": "code",
    "id": "lZ8GO3FK01kw"
   },
   "outputs": [
    {
     "name": "stdout",
     "output_type": "stream",
     "text": [
      "['85', ' 77']\n",
      "['15', ' 34']\n",
      "['80', ' 66']\n",
      "['80', ' 89']\n",
      "['77', ' 74']\n",
      "['76', ' 90']\n",
      "['47', ' 55']\n",
      "['48', ' 66']\n",
      "['50', ' 78']\n",
      "['53', ' 56']\n",
      "['88', ' 77']\n",
      "['90', ' 69']\n",
      "['75', ' 88']\n",
      "['67', ' 55']\n",
      "['79', ' 56']\n",
      "['76', ' 88']\n",
      "['92', ' 98']\n",
      "['90', ' 67']\n",
      "['93', ' 82']\n"
     ]
    }
   ],
   "source": [
    "#Read data from score.csv and print it \n",
    "import csv\n",
    "with open('score.csv', newline='') as fin:\n",
    "    csvreader = csv.reader(fin)\n",
    "    for row in csvreader:\n",
    "        print(row)"
   ]
  },
  {
   "cell_type": "code",
   "execution_count": 4,
   "metadata": {},
   "outputs": [
    {
     "name": "stdout",
     "output_type": "stream",
     "text": [
      "85 77 81.0\n",
      "15 34 24.5\n",
      "80 66 73.0\n",
      "80 89 84.5\n",
      "77 74 75.5\n",
      "76 90 83.0\n",
      "47 55 51.0\n",
      "48 66 57.0\n",
      "50 78 64.0\n",
      "53 56 54.5\n",
      "88 77 82.5\n",
      "90 69 79.5\n",
      "75 88 81.5\n",
      "67 55 61.0\n",
      "79 56 67.5\n",
      "76 88 82.0\n",
      "92 98 95.0\n",
      "90 67 78.5\n",
      "93 82 87.5\n"
     ]
    }
   ],
   "source": [
    "#Read data from score.csv and Calculate the average score\n",
    "import csv\n",
    "with open('score.csv', newline='') as fin:\n",
    "    csvreader = csv.reader(fin)\n",
    "    for row in csvreader:\n",
    "        math, biology = map(int,row)\n",
    "        average = (math+biology)/2\n",
    "        print(f\"{math:>2} {biology:>2} {average:>4.1f}\")"
   ]
  },
  {
   "cell_type": "markdown",
   "metadata": {},
   "source": [
    "## Exercise: count the number of the passed in the score.csv file"
   ]
  },
  {
   "cell_type": "code",
   "execution_count": null,
   "metadata": {
    "colab": {},
    "colab_type": "code",
    "id": "C_0OInXq031l"
   },
   "outputs": [],
   "source": [
    "\n",
    "\n",
    "\n",
    "print(f\"The number of the passed is {passed} in {count} students\")"
   ]
  }
 ],
 "metadata": {
  "colab": {
   "name": "Demo3-2.ipynb",
   "provenance": [],
   "version": "0.3.2"
  },
  "kernelspec": {
   "display_name": "Python 3",
   "language": "python",
   "name": "python3"
  },
  "language_info": {
   "codemirror_mode": {
    "name": "ipython",
    "version": 3
   },
   "file_extension": ".py",
   "mimetype": "text/x-python",
   "name": "python",
   "nbconvert_exporter": "python",
   "pygments_lexer": "ipython3",
   "version": "3.7.6"
  }
 },
 "nbformat": 4,
 "nbformat_minor": 1
}
