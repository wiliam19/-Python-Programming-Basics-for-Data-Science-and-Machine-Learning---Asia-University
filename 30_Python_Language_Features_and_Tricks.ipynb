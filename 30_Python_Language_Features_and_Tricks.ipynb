{
  "nbformat": 4,
  "nbformat_minor": 0,
  "metadata": {
    "colab": {
      "name": "30 Python Language Features and Tricks.ipynb",
      "provenance": []
    },
    "kernelspec": {
      "name": "python3",
      "display_name": "Python 3"
    }
  },
  "cells": [
    {
      "cell_type": "markdown",
      "metadata": {
        "id": "v2f_n0l60ADH"
      },
      "source": [
        "# 30 Python Language Features and Tricks\r\n",
        "https://sahandsaba.com/thirty-python-language-features-and-tricks-you-may-not-know.html\r\n",
        "\r\n",
        "MAR 05, 2014\r\n",
        "1   Introduction\r\n",
        "Since I started learning Python, I decided to maintain an often visited list of \"tricks\". Any time I saw a piece of code (in an example, on Stack Overflow, in open source software, etc.) that made me think \"Cool! I didn't know you could do that!\" I experimented with it until I understood it and then added it to the list. This post is part of that list, after some cleaning up. If you are an experienced Python programmer, chances are you already know most of these, though you might still find a few that you didn't know about. If you are a C, C++ or Java programmer who is learning Python, or just brand new to programming, then you might find quite a few of them surprisingly useful, like I did.\r\n",
        "\r\n",
        "Each trick or language feature is demonstrated only through examples, with no explanation. While I tried my best to make the examples clear, some of them might still appear cryptic depending on your familiarity level. So if something still doesn't make sense after looking at the examples, the title should be clear enough to allow you to use Google for more information on it.\r\n",
        "\r\n",
        "The list is very roughly ordered by difficulty, with the easier and more commonly known language features and tricks appearing first."
      ]
    },
    {
      "cell_type": "markdown",
      "metadata": {
        "id": "YKMr2hqh0SVp"
      },
      "source": [
        "## 1.1   Unpacking"
      ]
    },
    {
      "cell_type": "code",
      "metadata": {
        "id": "rU8gGhOlz63R"
      },
      "source": [
        "a, b, c = 1, 2, 3"
      ],
      "execution_count": null,
      "outputs": []
    },
    {
      "cell_type": "code",
      "metadata": {
        "id": "KYaxzwIj0YaI"
      },
      "source": [
        "a, b, c = [1, 2, 3]"
      ],
      "execution_count": null,
      "outputs": []
    },
    {
      "cell_type": "code",
      "metadata": {
        "id": "B14p0AtT0gbt"
      },
      "source": [
        "a, b, c = (2 * i + 1 for i in range(3))"
      ],
      "execution_count": null,
      "outputs": []
    },
    {
      "cell_type": "code",
      "metadata": {
        "id": "HjFlovt60g8G"
      },
      "source": [
        "a, (b, c), d = [1, (2, 3), 4]"
      ],
      "execution_count": null,
      "outputs": []
    },
    {
      "cell_type": "markdown",
      "metadata": {
        "id": "chssks5R0oMw"
      },
      "source": [
        "## 1.2   Unpacking for swapping variables"
      ]
    },
    {
      "cell_type": "code",
      "metadata": {
        "id": "tbHJjXQq0lYA"
      },
      "source": [
        "a, b = 1, 2"
      ],
      "execution_count": null,
      "outputs": []
    },
    {
      "cell_type": "code",
      "metadata": {
        "id": "22idkkAz0t2o"
      },
      "source": [
        "a, b = b, a"
      ],
      "execution_count": null,
      "outputs": []
    },
    {
      "cell_type": "markdown",
      "metadata": {
        "id": "QXaHMOnV0zYb"
      },
      "source": [
        "## 1.3   Extended unpacking"
      ]
    },
    {
      "cell_type": "code",
      "metadata": {
        "id": "In1yqa7C0yvi"
      },
      "source": [
        "a, *b, c = [1, 2, 3, 4, 5]"
      ],
      "execution_count": null,
      "outputs": []
    },
    {
      "cell_type": "markdown",
      "metadata": {
        "id": "QDWJWaqX048U"
      },
      "source": [
        "## 1.4   Negative indexing"
      ]
    },
    {
      "cell_type": "code",
      "metadata": {
        "colab": {
          "base_uri": "https://localhost:8080/"
        },
        "id": "l1OyLn8I077h",
        "outputId": "ecc239d9-641f-4b70-cfe4-999fb57376a4"
      },
      "source": [
        "a = [0, 1, 2, 3, 4, 5, 6, 7, 8, 9, 10]\r\n",
        "a[-1]"
      ],
      "execution_count": null,
      "outputs": [
        {
          "output_type": "execute_result",
          "data": {
            "text/plain": [
              "10"
            ]
          },
          "metadata": {
            "tags": []
          },
          "execution_count": 8
        }
      ]
    },
    {
      "cell_type": "markdown",
      "metadata": {
        "id": "8XFFV5y01CP_"
      },
      "source": [
        "## 1.5   List slices (a[start:end])"
      ]
    },
    {
      "cell_type": "code",
      "metadata": {
        "colab": {
          "base_uri": "https://localhost:8080/"
        },
        "id": "0rEcJcy61DoB",
        "outputId": "bf899c52-ab69-4afa-9711-98576814c2fc"
      },
      "source": [
        "a = [0, 1, 2, 3, 4, 5, 6, 7, 8, 9, 10]\r\n",
        "a[2:8]"
      ],
      "execution_count": null,
      "outputs": [
        {
          "output_type": "execute_result",
          "data": {
            "text/plain": [
              "[2, 3, 4, 5, 6, 7]"
            ]
          },
          "metadata": {
            "tags": []
          },
          "execution_count": 9
        }
      ]
    },
    {
      "cell_type": "markdown",
      "metadata": {
        "id": "QvqYRhPJ1Ih5"
      },
      "source": [
        "## 1.6   List slices with negative indexing"
      ]
    },
    {
      "cell_type": "code",
      "metadata": {
        "colab": {
          "base_uri": "https://localhost:8080/"
        },
        "id": "paJvlnkY1KBx",
        "outputId": "4b9fa54c-a019-4c00-9ecd-5cae83990813"
      },
      "source": [
        "a = [0, 1, 2, 3, 4, 5, 6, 7, 8, 9, 10]\r\n",
        "a[-4:-2]"
      ],
      "execution_count": null,
      "outputs": [
        {
          "output_type": "execute_result",
          "data": {
            "text/plain": [
              "[7, 8]"
            ]
          },
          "metadata": {
            "tags": []
          },
          "execution_count": 10
        }
      ]
    },
    {
      "cell_type": "markdown",
      "metadata": {
        "id": "3Q_2JW3F1NOs"
      },
      "source": [
        "## 1.7   List slices with step (a[start:end:step])"
      ]
    },
    {
      "cell_type": "code",
      "metadata": {
        "colab": {
          "base_uri": "https://localhost:8080/"
        },
        "id": "0X_sPJj11SNC",
        "outputId": "1618d574-b5ff-4f3a-e8cf-65b83d1ea1c9"
      },
      "source": [
        "a = [0, 1, 2, 3, 4, 5, 6, 7, 8, 9, 10]\r\n",
        "a[::2]"
      ],
      "execution_count": null,
      "outputs": [
        {
          "output_type": "execute_result",
          "data": {
            "text/plain": [
              "[0, 2, 4, 6, 8, 10]"
            ]
          },
          "metadata": {
            "tags": []
          },
          "execution_count": 11
        }
      ]
    },
    {
      "cell_type": "code",
      "metadata": {
        "colab": {
          "base_uri": "https://localhost:8080/"
        },
        "id": "eda21efU1X7b",
        "outputId": "6531316a-8fc3-48a4-9618-51c777a30c51"
      },
      "source": [
        "a[::3]"
      ],
      "execution_count": null,
      "outputs": [
        {
          "output_type": "execute_result",
          "data": {
            "text/plain": [
              "[0, 3, 6, 9]"
            ]
          },
          "metadata": {
            "tags": []
          },
          "execution_count": 12
        }
      ]
    },
    {
      "cell_type": "code",
      "metadata": {
        "colab": {
          "base_uri": "https://localhost:8080/"
        },
        "id": "5Z1lJWaJ1Zvy",
        "outputId": "278d1941-91af-4a29-b540-4229d26032e1"
      },
      "source": [
        "a[2:8:2]"
      ],
      "execution_count": null,
      "outputs": [
        {
          "output_type": "execute_result",
          "data": {
            "text/plain": [
              "[2, 4, 6]"
            ]
          },
          "metadata": {
            "tags": []
          },
          "execution_count": 13
        }
      ]
    },
    {
      "cell_type": "markdown",
      "metadata": {
        "id": "uKDi80JC1cFV"
      },
      "source": [
        "## 1.8   List slices with negative step"
      ]
    },
    {
      "cell_type": "code",
      "metadata": {
        "colab": {
          "base_uri": "https://localhost:8080/"
        },
        "id": "5zkjXyFP1dVW",
        "outputId": "7fea5806-9b2c-43a3-d5cb-83c33fd302aa"
      },
      "source": [
        "a = [0, 1, 2, 3, 4, 5, 6, 7, 8, 9, 10]\r\n",
        "a[::-1]"
      ],
      "execution_count": null,
      "outputs": [
        {
          "output_type": "execute_result",
          "data": {
            "text/plain": [
              "[10, 9, 8, 7, 6, 5, 4, 3, 2, 1, 0]"
            ]
          },
          "metadata": {
            "tags": []
          },
          "execution_count": 14
        }
      ]
    },
    {
      "cell_type": "code",
      "metadata": {
        "colab": {
          "base_uri": "https://localhost:8080/"
        },
        "id": "HCGBgysO1gbq",
        "outputId": "14dc60ca-b58b-4571-c5a8-33f64c4e776e"
      },
      "source": [
        "a[::-2]"
      ],
      "execution_count": null,
      "outputs": [
        {
          "output_type": "execute_result",
          "data": {
            "text/plain": [
              "[10, 8, 6, 4, 2, 0]"
            ]
          },
          "metadata": {
            "tags": []
          },
          "execution_count": 15
        }
      ]
    },
    {
      "cell_type": "markdown",
      "metadata": {
        "id": "5id0RPCk1lum"
      },
      "source": [
        "## 1.9   List slice assignment"
      ]
    },
    {
      "cell_type": "code",
      "metadata": {
        "colab": {
          "base_uri": "https://localhost:8080/"
        },
        "id": "NPMcS9U01m48",
        "outputId": "d74c9586-516c-4a7f-c3d0-04e254673005"
      },
      "source": [
        "a = [1, 2, 3, 4, 5]\r\n",
        "a[2:3] = [0, 0]\r\n",
        "a"
      ],
      "execution_count": null,
      "outputs": [
        {
          "output_type": "execute_result",
          "data": {
            "text/plain": [
              "[1, 2, 0, 0, 4, 5]"
            ]
          },
          "metadata": {
            "tags": []
          },
          "execution_count": 17
        }
      ]
    },
    {
      "cell_type": "code",
      "metadata": {
        "colab": {
          "base_uri": "https://localhost:8080/"
        },
        "id": "o8QPRQMu14PL",
        "outputId": "ff62e528-f02a-483d-af4a-9306a7f4aa90"
      },
      "source": [
        "a = [1, 2, 3, 4, 5]\r\n",
        "a[1:1] = [8, 9]\r\n",
        "a"
      ],
      "execution_count": null,
      "outputs": [
        {
          "output_type": "execute_result",
          "data": {
            "text/plain": [
              "[1, 8, 9, 2, 3, 4, 5]"
            ]
          },
          "metadata": {
            "tags": []
          },
          "execution_count": 20
        }
      ]
    },
    {
      "cell_type": "code",
      "metadata": {
        "colab": {
          "base_uri": "https://localhost:8080/"
        },
        "id": "1HUja81l2CJJ",
        "outputId": "81dbffa1-cb43-426d-f28f-1c9fd0cfd68e"
      },
      "source": [
        "a = [1, 2, 3, 4, 5]\r\n",
        "a[1:-1] = []\r\n",
        "a"
      ],
      "execution_count": null,
      "outputs": [
        {
          "output_type": "execute_result",
          "data": {
            "text/plain": [
              "[1, 5]"
            ]
          },
          "metadata": {
            "tags": []
          },
          "execution_count": 21
        }
      ]
    },
    {
      "cell_type": "markdown",
      "metadata": {
        "id": "aaxqwf8W2QzM"
      },
      "source": [
        "## 1.10   Naming slices (slice(start, end, step))"
      ]
    },
    {
      "cell_type": "code",
      "metadata": {
        "colab": {
          "base_uri": "https://localhost:8080/"
        },
        "id": "IHNjtcaE2SXs",
        "outputId": "47ded014-2760-4120-bfe3-944b4cf2ffbc"
      },
      "source": [
        "a = [0, 1, 2, 3, 4, 5]\r\n",
        "LASTTHREE = slice(-3, None)\r\n",
        "LASTTHREE"
      ],
      "execution_count": null,
      "outputs": [
        {
          "output_type": "execute_result",
          "data": {
            "text/plain": [
              "slice(-3, None, None)"
            ]
          },
          "metadata": {
            "tags": []
          },
          "execution_count": 23
        }
      ]
    },
    {
      "cell_type": "code",
      "metadata": {
        "colab": {
          "base_uri": "https://localhost:8080/"
        },
        "id": "xJ_-Vb012fYl",
        "outputId": "d89af105-5dac-4826-d48b-53aa77dac701"
      },
      "source": [
        "a[LASTTHREE]"
      ],
      "execution_count": null,
      "outputs": [
        {
          "output_type": "execute_result",
          "data": {
            "text/plain": [
              "[3, 4, 5]"
            ]
          },
          "metadata": {
            "tags": []
          },
          "execution_count": 24
        }
      ]
    },
    {
      "cell_type": "markdown",
      "metadata": {
        "id": "GFwUJh5r2kxT"
      },
      "source": [
        "## 1.11   Iterating over list index and value pairs (enumerate)"
      ]
    },
    {
      "cell_type": "code",
      "metadata": {
        "colab": {
          "base_uri": "https://localhost:8080/"
        },
        "id": "GpTmyqDL2l0R",
        "outputId": "b152ccdb-9787-47a6-cd39-c87689951ce7"
      },
      "source": [
        "a = ['Hello', 'world', '!']\r\n",
        "for i, x in enumerate(a):\r\n",
        "  print ('{}: {}'.format(i, x))"
      ],
      "execution_count": null,
      "outputs": [
        {
          "output_type": "stream",
          "text": [
            "0: Hello\n",
            "1: world\n",
            "2: !\n"
          ],
          "name": "stdout"
        }
      ]
    },
    {
      "cell_type": "markdown",
      "metadata": {
        "id": "05UQ5ofU2xQ-"
      },
      "source": [
        "## 1.12   Iterating over dictionary key and value pairs (dict.iteritems)"
      ]
    },
    {
      "cell_type": "code",
      "metadata": {
        "colab": {
          "base_uri": "https://localhost:8080/"
        },
        "id": "9quQesZc2xZ9",
        "outputId": "b4b0d990-2f9c-4f18-d731-251439fcc7b7"
      },
      "source": [
        "m = {'a': 1, 'b': 2, 'c': 3, 'd': 4}\r\n",
        "for k, v in m.items():\r\n",
        "  print ('{}: {}'.format(k, v))"
      ],
      "execution_count": null,
      "outputs": [
        {
          "output_type": "stream",
          "text": [
            "a: 1\n",
            "b: 2\n",
            "c: 3\n",
            "d: 4\n"
          ],
          "name": "stdout"
        }
      ]
    },
    {
      "cell_type": "markdown",
      "metadata": {
        "id": "AYY2qbFK3AfX"
      },
      "source": [
        "## 1.13   Zipping and unzipping lists and iterables"
      ]
    },
    {
      "cell_type": "code",
      "metadata": {
        "colab": {
          "base_uri": "https://localhost:8080/"
        },
        "id": "bGIAOVJi3CLp",
        "outputId": "42c29858-1901-4fce-b794-f3ee9165c0b0"
      },
      "source": [
        "a = [1, 2, 3]\r\n",
        "b = ['a', 'b', 'c']\r\n",
        "z = zip(a, b)\r\n",
        "list(z)"
      ],
      "execution_count": null,
      "outputs": [
        {
          "output_type": "execute_result",
          "data": {
            "text/plain": [
              "[(1, 'a'), (2, 'b'), (3, 'c')]"
            ]
          },
          "metadata": {
            "tags": []
          },
          "execution_count": 31
        }
      ]
    },
    {
      "cell_type": "markdown",
      "metadata": {
        "id": "qgeXxwb83ejm"
      },
      "source": [
        "## 1.14   Grouping adjacent list items using zip"
      ]
    },
    {
      "cell_type": "code",
      "metadata": {
        "id": "UZtEYEhP3QU3"
      },
      "source": [
        "a = [1, 2, 3, 4, 5, 6]"
      ],
      "execution_count": null,
      "outputs": []
    },
    {
      "cell_type": "code",
      "metadata": {
        "id": "NnsudIK_3m-k"
      },
      "source": [
        "group_adjacent = lambda a, k: zip(*([iter(a)] * k)) # Using iterators"
      ],
      "execution_count": null,
      "outputs": []
    },
    {
      "cell_type": "code",
      "metadata": {
        "colab": {
          "base_uri": "https://localhost:8080/"
        },
        "id": "C_N4DLSk3pmG",
        "outputId": "676b1ad6-63f5-4696-edbe-ad92d1e22555"
      },
      "source": [
        "z1=group_adjacent(a, 3)\r\n",
        "z1"
      ],
      "execution_count": null,
      "outputs": [
        {
          "output_type": "execute_result",
          "data": {
            "text/plain": [
              "<zip at 0x7f1d94ee7e48>"
            ]
          },
          "metadata": {
            "tags": []
          },
          "execution_count": 39
        }
      ]
    },
    {
      "cell_type": "code",
      "metadata": {
        "colab": {
          "base_uri": "https://localhost:8080/"
        },
        "id": "W9h6xoqT3xve",
        "outputId": "51a00127-7880-439f-e651-e0873cbf4e23"
      },
      "source": [
        "list(z1)"
      ],
      "execution_count": null,
      "outputs": [
        {
          "output_type": "execute_result",
          "data": {
            "text/plain": [
              "[(1, 2, 3), (4, 5, 6)]"
            ]
          },
          "metadata": {
            "tags": []
          },
          "execution_count": 40
        }
      ]
    },
    {
      "cell_type": "code",
      "metadata": {
        "colab": {
          "base_uri": "https://localhost:8080/"
        },
        "id": "DovQODAr346v",
        "outputId": "1a1d4778-8ff3-4663-c137-7b1b5fd28660"
      },
      "source": [
        "z2=group_adjacent(a, 2)\r\n",
        "z2"
      ],
      "execution_count": null,
      "outputs": [
        {
          "output_type": "execute_result",
          "data": {
            "text/plain": [
              "<zip at 0x7f1d94f37748>"
            ]
          },
          "metadata": {
            "tags": []
          },
          "execution_count": 43
        }
      ]
    },
    {
      "cell_type": "code",
      "metadata": {
        "colab": {
          "base_uri": "https://localhost:8080/"
        },
        "id": "P8Ioorlq3-4O",
        "outputId": "b89a3282-f326-43b3-d2c4-ee0aa062e461"
      },
      "source": [
        "list(z2)"
      ],
      "execution_count": null,
      "outputs": [
        {
          "output_type": "execute_result",
          "data": {
            "text/plain": [
              "[(1, 2), (3, 4), (5, 6)]"
            ]
          },
          "metadata": {
            "tags": []
          },
          "execution_count": 42
        }
      ]
    },
    {
      "cell_type": "code",
      "metadata": {
        "colab": {
          "base_uri": "https://localhost:8080/"
        },
        "id": "jcj2EcAX4Eq2",
        "outputId": "986af919-a269-4450-b038-a85e85dff039"
      },
      "source": [
        "z3=group_adjacent(a, 1)\r\n",
        "z3"
      ],
      "execution_count": null,
      "outputs": [
        {
          "output_type": "execute_result",
          "data": {
            "text/plain": [
              "<zip at 0x7f1d95000708>"
            ]
          },
          "metadata": {
            "tags": []
          },
          "execution_count": 44
        }
      ]
    },
    {
      "cell_type": "code",
      "metadata": {
        "colab": {
          "base_uri": "https://localhost:8080/"
        },
        "id": "aSpHFU8j4HYc",
        "outputId": "10f3818c-78c1-4340-d810-9a8eed902c55"
      },
      "source": [
        "list(z3)"
      ],
      "execution_count": null,
      "outputs": [
        {
          "output_type": "execute_result",
          "data": {
            "text/plain": [
              "[(1,), (2,), (3,), (4,), (5,), (6,)]"
            ]
          },
          "metadata": {
            "tags": []
          },
          "execution_count": 45
        }
      ]
    },
    {
      "cell_type": "code",
      "metadata": {
        "id": "zfbC7SOU4VVb"
      },
      "source": [
        "from itertools import islice # Using slices\r\n",
        "group_adjacent = lambda a, k: zip(*(islice(a, i, None, k) for i in range(k)))"
      ],
      "execution_count": null,
      "outputs": []
    },
    {
      "cell_type": "code",
      "metadata": {
        "colab": {
          "base_uri": "https://localhost:8080/"
        },
        "id": "Vw2u-a_54ghH",
        "outputId": "9e2a19b8-d925-4dab-a523-e96ee2378f8d"
      },
      "source": [
        "z1=group_adjacent(a, 3)\r\n",
        "z1"
      ],
      "execution_count": null,
      "outputs": [
        {
          "output_type": "execute_result",
          "data": {
            "text/plain": [
              "<zip at 0x7f1d9d601988>"
            ]
          },
          "metadata": {
            "tags": []
          },
          "execution_count": 48
        }
      ]
    },
    {
      "cell_type": "code",
      "metadata": {
        "colab": {
          "base_uri": "https://localhost:8080/"
        },
        "id": "C4UkotKZ4jB5",
        "outputId": "3b1d508b-7599-43ec-d904-cc65e720cdd5"
      },
      "source": [
        "list(z1)"
      ],
      "execution_count": null,
      "outputs": [
        {
          "output_type": "execute_result",
          "data": {
            "text/plain": [
              "[(1, 2, 3), (4, 5, 6)]"
            ]
          },
          "metadata": {
            "tags": []
          },
          "execution_count": 49
        }
      ]
    },
    {
      "cell_type": "markdown",
      "metadata": {
        "id": "dKVcKiZW4l7g"
      },
      "source": [
        "## 1.15   Sliding windows (nn -grams) using zip and iterators"
      ]
    },
    {
      "cell_type": "code",
      "metadata": {
        "id": "sIaBPgvK4nes"
      },
      "source": [
        "from itertools import islice\r\n",
        "def n_grams(a, n):\r\n",
        "  z = (islice(a, i, None) for i in range(n))\r\n",
        "  return zip(*z)"
      ],
      "execution_count": null,
      "outputs": []
    },
    {
      "cell_type": "code",
      "metadata": {
        "colab": {
          "base_uri": "https://localhost:8080/"
        },
        "id": "FjeTYueO4s8y",
        "outputId": "3bdba617-e6c5-44d8-f00b-dced96c819e1"
      },
      "source": [
        "a = [1, 2, 3, 4, 5, 6]\r\n",
        "a2=n_grams(a, 3)\r\n",
        "a2"
      ],
      "execution_count": null,
      "outputs": [
        {
          "output_type": "execute_result",
          "data": {
            "text/plain": [
              "<zip at 0x7f1d94f37e08>"
            ]
          },
          "metadata": {
            "tags": []
          },
          "execution_count": 52
        }
      ]
    },
    {
      "cell_type": "code",
      "metadata": {
        "colab": {
          "base_uri": "https://localhost:8080/"
        },
        "id": "mQSVOe_B4zSV",
        "outputId": "c3bb65a3-eee5-401f-b418-15ce2c230f0c"
      },
      "source": [
        "list(a2)"
      ],
      "execution_count": null,
      "outputs": [
        {
          "output_type": "execute_result",
          "data": {
            "text/plain": [
              "[(1, 2, 3), (2, 3, 4), (3, 4, 5), (4, 5, 6)]"
            ]
          },
          "metadata": {
            "tags": []
          },
          "execution_count": 53
        }
      ]
    },
    {
      "cell_type": "markdown",
      "metadata": {
        "id": "NDpQUIJc44OL"
      },
      "source": [
        "## 1.16   Inverting a dictionary using zip"
      ]
    },
    {
      "cell_type": "code",
      "metadata": {
        "colab": {
          "base_uri": "https://localhost:8080/"
        },
        "id": "QLnS6hhz45Rc",
        "outputId": "8d41c16e-c754-412a-a824-169f44050585"
      },
      "source": [
        "m = {'a': 1, 'b': 2, 'c': 3, 'd': 4}\r\n",
        "m.items()"
      ],
      "execution_count": null,
      "outputs": [
        {
          "output_type": "execute_result",
          "data": {
            "text/plain": [
              "dict_items([('a', 1), ('b', 2), ('c', 3), ('d', 4)])"
            ]
          },
          "metadata": {
            "tags": []
          },
          "execution_count": 54
        }
      ]
    },
    {
      "cell_type": "code",
      "metadata": {
        "colab": {
          "base_uri": "https://localhost:8080/"
        },
        "id": "_-kZvS4f5B1p",
        "outputId": "846b1557-15d4-4306-9d91-440c5e9edae4"
      },
      "source": [
        "list(zip(m.values(), m.keys()))"
      ],
      "execution_count": null,
      "outputs": [
        {
          "output_type": "execute_result",
          "data": {
            "text/plain": [
              "[(1, 'a'), (2, 'b'), (3, 'c'), (4, 'd')]"
            ]
          },
          "metadata": {
            "tags": []
          },
          "execution_count": 55
        }
      ]
    },
    {
      "cell_type": "code",
      "metadata": {
        "colab": {
          "base_uri": "https://localhost:8080/"
        },
        "id": "fXEzJ7QB5HG6",
        "outputId": "f9d5e5ab-e4aa-4013-e4e1-6758f30d6a50"
      },
      "source": [
        "m2= dict(zip(m.values(), m.keys()))\r\n",
        "m2"
      ],
      "execution_count": null,
      "outputs": [
        {
          "output_type": "execute_result",
          "data": {
            "text/plain": [
              "{1: 'a', 2: 'b', 3: 'c', 4: 'd'}"
            ]
          },
          "metadata": {
            "tags": []
          },
          "execution_count": 56
        }
      ]
    },
    {
      "cell_type": "markdown",
      "metadata": {
        "id": "lNqm2yxS_3M-"
      },
      "source": [
        "## 1.17   Flattening lists:"
      ]
    },
    {
      "cell_type": "code",
      "metadata": {
        "colab": {
          "base_uri": "https://localhost:8080/"
        },
        "id": "Wzbq33Qf_12m",
        "outputId": "fc12e5ed-39f6-4948-a7d2-d2952521718a"
      },
      "source": [
        "a = [[1, 2], [3, 4], [5, 6]]\r\n",
        "a"
      ],
      "execution_count": null,
      "outputs": [
        {
          "output_type": "execute_result",
          "data": {
            "text/plain": [
              "[[1, 2], [3, 4], [5, 6]]"
            ]
          },
          "metadata": {
            "tags": []
          },
          "execution_count": 58
        }
      ]
    },
    {
      "cell_type": "code",
      "metadata": {
        "colab": {
          "base_uri": "https://localhost:8080/"
        },
        "id": "QRiSh5Uc__PC",
        "outputId": "a45c5325-cb9c-4114-8c4f-b0c768b5fe8c"
      },
      "source": [
        "import itertools\r\n",
        "list(itertools.chain.from_iterable(a))"
      ],
      "execution_count": null,
      "outputs": [
        {
          "output_type": "execute_result",
          "data": {
            "text/plain": [
              "[1, 2, 3, 4, 5, 6]"
            ]
          },
          "metadata": {
            "tags": []
          },
          "execution_count": 60
        }
      ]
    },
    {
      "cell_type": "code",
      "metadata": {
        "colab": {
          "base_uri": "https://localhost:8080/"
        },
        "id": "0CJTiaG9AW2y",
        "outputId": "1300ff2c-00a6-461f-ccea-6a1a17e75433"
      },
      "source": [
        "sum(a, [])"
      ],
      "execution_count": null,
      "outputs": [
        {
          "output_type": "execute_result",
          "data": {
            "text/plain": [
              "[1, 2, 3, 4, 5, 6]"
            ]
          },
          "metadata": {
            "tags": []
          },
          "execution_count": 61
        }
      ]
    },
    {
      "cell_type": "code",
      "metadata": {
        "colab": {
          "base_uri": "https://localhost:8080/"
        },
        "id": "JKGuefALAah8",
        "outputId": "7923bf06-dd06-4e39-a50b-0a0753edb15d"
      },
      "source": [
        "[x for l in a for x in l]"
      ],
      "execution_count": null,
      "outputs": [
        {
          "output_type": "execute_result",
          "data": {
            "text/plain": [
              "[1, 2, 3, 4, 5, 6]"
            ]
          },
          "metadata": {
            "tags": []
          },
          "execution_count": 62
        }
      ]
    },
    {
      "cell_type": "code",
      "metadata": {
        "colab": {
          "base_uri": "https://localhost:8080/"
        },
        "id": "z_mCfOC0A18F",
        "outputId": "13f32e5f-a6dc-45c2-bd9e-8da8faf3a367"
      },
      "source": [
        "a = [[[1, 2], [3, 4]], [[5, 6], [7, 8]]]\r\n",
        "a"
      ],
      "execution_count": null,
      "outputs": [
        {
          "output_type": "execute_result",
          "data": {
            "text/plain": [
              "[[[1, 2], [3, 4]], [[5, 6], [7, 8]]]"
            ]
          },
          "metadata": {
            "tags": []
          },
          "execution_count": 63
        }
      ]
    },
    {
      "cell_type": "code",
      "metadata": {
        "colab": {
          "base_uri": "https://localhost:8080/"
        },
        "id": "Jbu-wqVtA74a",
        "outputId": "3086d63a-eebd-472f-a80e-faf8fc1b5b15"
      },
      "source": [
        "[x for l1 in a for l2 in l1 for x in l2]"
      ],
      "execution_count": null,
      "outputs": [
        {
          "output_type": "execute_result",
          "data": {
            "text/plain": [
              "[1, 2, 3, 4, 5, 6, 7, 8]"
            ]
          },
          "metadata": {
            "tags": []
          },
          "execution_count": 64
        }
      ]
    },
    {
      "cell_type": "code",
      "metadata": {
        "colab": {
          "base_uri": "https://localhost:8080/"
        },
        "id": "A1Bzbgl4BJi2",
        "outputId": "a0b699a2-982e-4f4d-93b3-f1e0182ab4d5"
      },
      "source": [
        "a = [1, 2, [3, 4], [[5, 6], [7, 8]]]\r\n",
        "a"
      ],
      "execution_count": null,
      "outputs": [
        {
          "output_type": "execute_result",
          "data": {
            "text/plain": [
              "[1, 2, [3, 4], [[5, 6], [7, 8]]]"
            ]
          },
          "metadata": {
            "tags": []
          },
          "execution_count": 65
        }
      ]
    },
    {
      "cell_type": "code",
      "metadata": {
        "id": "VTSN_mMrBPic"
      },
      "source": [
        "flatten = lambda x: [y for l in x for y in flatten(l)] if type(x) is list else [x]"
      ],
      "execution_count": null,
      "outputs": []
    },
    {
      "cell_type": "code",
      "metadata": {
        "colab": {
          "base_uri": "https://localhost:8080/"
        },
        "id": "1XLfNZOdBTme",
        "outputId": "9a21a1e1-ca96-4555-c548-5ed4f0e46639"
      },
      "source": [
        "flatten(a)"
      ],
      "execution_count": null,
      "outputs": [
        {
          "output_type": "execute_result",
          "data": {
            "text/plain": [
              "[1, 2, 3, 4, 5, 6, 7, 8]"
            ]
          },
          "metadata": {
            "tags": []
          },
          "execution_count": 67
        }
      ]
    },
    {
      "cell_type": "markdown",
      "metadata": {
        "id": "HoxfbyonBZ3U"
      },
      "source": [
        "## 1.18   Generator expressions"
      ]
    },
    {
      "cell_type": "code",
      "metadata": {
        "id": "yxO16OnHBbdz"
      },
      "source": [
        "g = (x ** 2 for x in range(10))"
      ],
      "execution_count": null,
      "outputs": []
    },
    {
      "cell_type": "code",
      "metadata": {
        "colab": {
          "base_uri": "https://localhost:8080/"
        },
        "id": "MTUwLBPjBppT",
        "outputId": "a6fcb348-ff15-4a48-cec1-ece2b0fd8497"
      },
      "source": [
        "next(g)"
      ],
      "execution_count": null,
      "outputs": [
        {
          "output_type": "execute_result",
          "data": {
            "text/plain": [
              "0"
            ]
          },
          "metadata": {
            "tags": []
          },
          "execution_count": 71
        }
      ]
    },
    {
      "cell_type": "code",
      "metadata": {
        "colab": {
          "base_uri": "https://localhost:8080/"
        },
        "id": "1LwKJEZABrd_",
        "outputId": "48b7bf89-ee82-4d54-e838-67be5c65292f"
      },
      "source": [
        "next(g)"
      ],
      "execution_count": null,
      "outputs": [
        {
          "output_type": "execute_result",
          "data": {
            "text/plain": [
              "1"
            ]
          },
          "metadata": {
            "tags": []
          },
          "execution_count": 72
        }
      ]
    },
    {
      "cell_type": "code",
      "metadata": {
        "colab": {
          "base_uri": "https://localhost:8080/"
        },
        "id": "J6GR8QQWBtJP",
        "outputId": "fd2d6e67-d07f-4f4c-9f59-7a54ab36bda7"
      },
      "source": [
        "next(g)"
      ],
      "execution_count": null,
      "outputs": [
        {
          "output_type": "execute_result",
          "data": {
            "text/plain": [
              "4"
            ]
          },
          "metadata": {
            "tags": []
          },
          "execution_count": 73
        }
      ]
    },
    {
      "cell_type": "markdown",
      "metadata": {
        "id": "nAcHRxywB9dG"
      },
      "source": [
        "## 1.19   Dictionary comprehensions"
      ]
    },
    {
      "cell_type": "code",
      "metadata": {
        "colab": {
          "base_uri": "https://localhost:8080/"
        },
        "id": "nJuMABI7B-kG",
        "outputId": "107aeee2-870e-4609-d599-0b8009dd65c5"
      },
      "source": [
        "m = {x: x ** 2 for x in range(5)}\r\n",
        "m"
      ],
      "execution_count": null,
      "outputs": [
        {
          "output_type": "execute_result",
          "data": {
            "text/plain": [
              "{0: 0, 1: 1, 2: 4, 3: 9, 4: 16}"
            ]
          },
          "metadata": {
            "tags": []
          },
          "execution_count": 74
        }
      ]
    },
    {
      "cell_type": "code",
      "metadata": {
        "colab": {
          "base_uri": "https://localhost:8080/"
        },
        "id": "yJZ7Eh_kFjb6",
        "outputId": "90ff79bc-9cbf-43d2-eced-713b83c962b3"
      },
      "source": [
        "m = {x: 'A' + str(x) for x in range(10)}\r\n",
        "m"
      ],
      "execution_count": null,
      "outputs": [
        {
          "output_type": "execute_result",
          "data": {
            "text/plain": [
              "{0: 'A0',\n",
              " 1: 'A1',\n",
              " 2: 'A2',\n",
              " 3: 'A3',\n",
              " 4: 'A4',\n",
              " 5: 'A5',\n",
              " 6: 'A6',\n",
              " 7: 'A7',\n",
              " 8: 'A8',\n",
              " 9: 'A9'}"
            ]
          },
          "metadata": {
            "tags": []
          },
          "execution_count": 75
        }
      ]
    },
    {
      "cell_type": "markdown",
      "metadata": {
        "id": "God-n5yTFmnL"
      },
      "source": [
        "## 1.20   Inverting a dictionary using a dictionary comprehension"
      ]
    },
    {
      "cell_type": "code",
      "metadata": {
        "colab": {
          "base_uri": "https://localhost:8080/"
        },
        "id": "Wuh9dld_F1cQ",
        "outputId": "ad4476b6-0ddc-446c-d6a6-112e19642c2e"
      },
      "source": [
        "m = {'a': 1, 'b': 2, 'c': 3, 'd': 4}\r\n",
        "m"
      ],
      "execution_count": null,
      "outputs": [
        {
          "output_type": "execute_result",
          "data": {
            "text/plain": [
              "{'a': 1, 'b': 2, 'c': 3, 'd': 4}"
            ]
          },
          "metadata": {
            "tags": []
          },
          "execution_count": 78
        }
      ]
    },
    {
      "cell_type": "code",
      "metadata": {
        "colab": {
          "base_uri": "https://localhost:8080/"
        },
        "id": "MiABrezFF6Rk",
        "outputId": "39833cfd-96e9-4c26-b253-8ff3f0e3957b"
      },
      "source": [
        "m2={v: k for k, v in m.items()}\r\n",
        "m2"
      ],
      "execution_count": null,
      "outputs": [
        {
          "output_type": "execute_result",
          "data": {
            "text/plain": [
              "{1: 'a', 2: 'b', 3: 'c', 4: 'd'}"
            ]
          },
          "metadata": {
            "tags": []
          },
          "execution_count": 79
        }
      ]
    },
    {
      "cell_type": "markdown",
      "metadata": {
        "id": "jL2h28v4F0JF"
      },
      "source": [
        "## 1.21   Named tuples (collections.namedtuple)"
      ]
    },
    {
      "cell_type": "code",
      "metadata": {
        "id": "AF6FPFvLFoTf"
      },
      "source": [
        "import collections\r\n",
        "Point = collections.namedtuple('Point', ['x', 'y'])"
      ],
      "execution_count": null,
      "outputs": []
    },
    {
      "cell_type": "code",
      "metadata": {
        "colab": {
          "base_uri": "https://localhost:8080/"
        },
        "id": "Rrss6p29Fvog",
        "outputId": "9cb04ffd-278a-43b2-890e-1ff848432713"
      },
      "source": [
        "p = Point(x=1.0, y=2.0)\r\n",
        "p"
      ],
      "execution_count": null,
      "outputs": [
        {
          "output_type": "execute_result",
          "data": {
            "text/plain": [
              "Point(x=1.0, y=2.0)"
            ]
          },
          "metadata": {
            "tags": []
          },
          "execution_count": 77
        }
      ]
    },
    {
      "cell_type": "markdown",
      "metadata": {
        "id": "godw-pWDF_75"
      },
      "source": [
        "## 1.22   Inheriting from named tuples:"
      ]
    },
    {
      "cell_type": "code",
      "metadata": {
        "colab": {
          "base_uri": "https://localhost:8080/"
        },
        "id": "atptqHbGGBWJ",
        "outputId": "fa5774a0-904b-468e-a36a-4768cf558828"
      },
      "source": [
        "import collections\r\n",
        "Point = collections.namedtuple('Point', ['x', 'y'])\r\n",
        "p = Point(x=1.0, y=2.0)\r\n",
        "q = Point(x=2.0, y=3.0)\r\n",
        "p+q"
      ],
      "execution_count": null,
      "outputs": [
        {
          "output_type": "execute_result",
          "data": {
            "text/plain": [
              "(1.0, 2.0, 2.0, 3.0)"
            ]
          },
          "metadata": {
            "tags": []
          },
          "execution_count": 80
        }
      ]
    },
    {
      "cell_type": "code",
      "metadata": {
        "id": "e0wcx_p7GXQF"
      },
      "source": [
        "class Point(collections.namedtuple('PointBase', ['x', 'y'])):\r\n",
        "  __slots__ = ()\r\n",
        "  def __add__(self, other):\r\n",
        "    return Point(x=self.x + other.x, y=self.y + other.y)"
      ],
      "execution_count": null,
      "outputs": []
    },
    {
      "cell_type": "code",
      "metadata": {
        "colab": {
          "base_uri": "https://localhost:8080/"
        },
        "id": "BRrvNuDmGhou",
        "outputId": "a6e6803c-b2e3-4eec-9461-dfb1e59cdfec"
      },
      "source": [
        "p = Point(x=1.0, y=2.0)\r\n",
        "q = Point(x=2.0, y=3.0)\r\n",
        "p+q"
      ],
      "execution_count": null,
      "outputs": [
        {
          "output_type": "execute_result",
          "data": {
            "text/plain": [
              "Point(x=3.0, y=5.0)"
            ]
          },
          "metadata": {
            "tags": []
          },
          "execution_count": 82
        }
      ]
    },
    {
      "cell_type": "markdown",
      "metadata": {
        "id": "WGi27eVwGlTW"
      },
      "source": [
        "## 1.23   Sets and set operations"
      ]
    },
    {
      "cell_type": "code",
      "metadata": {
        "colab": {
          "base_uri": "https://localhost:8080/"
        },
        "id": "oenrj1ScGm6x",
        "outputId": "84699bb6-5df1-4417-e80b-1e3172cc8c4c"
      },
      "source": [
        "a = {1, 2, 3, 3}\r\n",
        "a"
      ],
      "execution_count": null,
      "outputs": [
        {
          "output_type": "execute_result",
          "data": {
            "text/plain": [
              "{1, 2, 3}"
            ]
          },
          "metadata": {
            "tags": []
          },
          "execution_count": 83
        }
      ]
    },
    {
      "cell_type": "code",
      "metadata": {
        "colab": {
          "base_uri": "https://localhost:8080/"
        },
        "id": "UO81_Og3Gs7d",
        "outputId": "e7d146b9-ab9b-469f-d649-9c1466c09e95"
      },
      "source": [
        "b = {3, 4, 5, 6, 7}\r\n",
        "b"
      ],
      "execution_count": null,
      "outputs": [
        {
          "output_type": "execute_result",
          "data": {
            "text/plain": [
              "{3, 4, 5, 6, 7}"
            ]
          },
          "metadata": {
            "tags": []
          },
          "execution_count": 84
        }
      ]
    },
    {
      "cell_type": "code",
      "metadata": {
        "colab": {
          "base_uri": "https://localhost:8080/"
        },
        "id": "It3f-WzFGzC4",
        "outputId": "80c9ce03-c19f-45cb-bb0b-95eb0955a92c"
      },
      "source": [
        "a | b"
      ],
      "execution_count": null,
      "outputs": [
        {
          "output_type": "execute_result",
          "data": {
            "text/plain": [
              "{1, 2, 3, 4, 5, 6, 7}"
            ]
          },
          "metadata": {
            "tags": []
          },
          "execution_count": 85
        }
      ]
    },
    {
      "cell_type": "code",
      "metadata": {
        "colab": {
          "base_uri": "https://localhost:8080/"
        },
        "id": "9A8T5dL9G252",
        "outputId": "45b90460-be59-48ac-a6cc-28b4d6506463"
      },
      "source": [
        "a-b"
      ],
      "execution_count": null,
      "outputs": [
        {
          "output_type": "execute_result",
          "data": {
            "text/plain": [
              "{1, 2}"
            ]
          },
          "metadata": {
            "tags": []
          },
          "execution_count": 86
        }
      ]
    },
    {
      "cell_type": "code",
      "metadata": {
        "colab": {
          "base_uri": "https://localhost:8080/"
        },
        "id": "lxPAHXpQG4SY",
        "outputId": "50ff36a0-5dad-426c-ce3f-f7cbf0a19db2"
      },
      "source": [
        "b-a"
      ],
      "execution_count": null,
      "outputs": [
        {
          "output_type": "execute_result",
          "data": {
            "text/plain": [
              "{4, 5, 6, 7}"
            ]
          },
          "metadata": {
            "tags": []
          },
          "execution_count": 87
        }
      ]
    },
    {
      "cell_type": "code",
      "metadata": {
        "colab": {
          "base_uri": "https://localhost:8080/"
        },
        "id": "Br97HGpaG6na",
        "outputId": "405072c6-513b-453e-bee8-c4bffc8f648d"
      },
      "source": [
        "a^b"
      ],
      "execution_count": null,
      "outputs": [
        {
          "output_type": "execute_result",
          "data": {
            "text/plain": [
              "{1, 2, 4, 5, 6, 7}"
            ]
          },
          "metadata": {
            "tags": []
          },
          "execution_count": 88
        }
      ]
    }
  ]
}