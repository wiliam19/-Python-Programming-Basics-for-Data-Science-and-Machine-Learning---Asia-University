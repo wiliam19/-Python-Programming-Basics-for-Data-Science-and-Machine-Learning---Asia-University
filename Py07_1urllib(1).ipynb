{
 "cells": [
  {
   "cell_type": "code",
   "execution_count": null,
   "metadata": {
    "colab": {},
    "colab_type": "code",
    "id": "oy0G6a9R1CUX"
   },
   "outputs": [],
   "source": [
    "#Collect school news\n",
    "#https://www.asia.edu.tw/EN/news1.php?y=2020\n",
    "import re\n",
    "from urllib import request\n",
    "with request.urlopen('https://www.asia.edu.tw/EN/news1.php?y=2021') as response:\n",
    "    html = response.read().decode('utf-8')\n",
    "    print(html)\n"
   ]
  },
  {
   "cell_type": "code",
   "execution_count": null,
   "metadata": {},
   "outputs": [],
   "source": [
    "import re\n",
    "from urllib import request\n",
    "count = 0\n",
    "sss = [\"2008\", \"2009\",\"2010\", \"2011\", \"2012\",\"2013\",\"2014\",\"2015\",\"2016\",\"2017\",\"2018\"]\n",
    "titles=list()\n",
    "for year in sss:\n",
    "    with request.urlopen('http://www.asia.edu.tw/EN/news1.php?y='+year) as response:\n",
    "        html = response.read().decode('utf-8')\n",
    "        #print(html)\n",
    "        pattern = ''\n",
    "        for pos in re.finditer(pattern, html):\n",
    "            pos2 = html.find('</font>', pos.end())\n",
    "            sub = html[pos.end():pos2]\n",
    "            titles.append(sub)\n",
    "            count = count + 1\n",
    "print (count)"
   ]
  },
  {
   "cell_type": "code",
   "execution_count": null,
   "metadata": {
    "colab": {},
    "colab_type": "code",
    "id": "tyyzYF7H3mWv"
   },
   "outputs": [],
   "source": []
  },
  {
   "cell_type": "code",
   "execution_count": null,
   "metadata": {
    "colab": {},
    "colab_type": "code",
    "id": "eTwpxXFW5_tc"
   },
   "outputs": [],
   "source": [
    " "
   ]
  }
 ],
 "metadata": {
  "colab": {
   "name": "Demo4-3.ipynb",
   "provenance": [],
   "version": "0.3.2"
  },
  "kernelspec": {
   "display_name": "Python 3",
   "language": "python",
   "name": "python3"
  },
  "language_info": {
   "codemirror_mode": {
    "name": "ipython",
    "version": 3
   },
   "file_extension": ".py",
   "mimetype": "text/x-python",
   "name": "python",
   "nbconvert_exporter": "python",
   "pygments_lexer": "ipython3",
   "version": "3.7.6"
  }
 },
 "nbformat": 4,
 "nbformat_minor": 1
}
