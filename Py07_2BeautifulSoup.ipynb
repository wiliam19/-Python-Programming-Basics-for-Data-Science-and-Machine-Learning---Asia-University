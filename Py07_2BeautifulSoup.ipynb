{
  "nbformat": 4,
  "nbformat_minor": 0,
  "metadata": {
    "colab": {
      "name": "Py07_2BeautifulSoup.ipynb",
      "provenance": [],
      "collapsed_sections": []
    },
    "kernelspec": {
      "display_name": "Python 3",
      "language": "python",
      "name": "python3"
    },
    "language_info": {
      "codemirror_mode": {
        "name": "ipython",
        "version": 3
      },
      "file_extension": ".py",
      "mimetype": "text/x-python",
      "name": "python",
      "nbconvert_exporter": "python",
      "pygments_lexer": "ipython3",
      "version": "3.7.6"
    }
  },
  "cells": [
    {
      "cell_type": "code",
      "metadata": {
        "colab": {
          "base_uri": "https://localhost:8080/"
        },
        "id": "NxxLLxRbB9h3",
        "outputId": "f59f66e8-890d-407a-a82f-2bc97eacf6b9"
      },
      "source": [
        "#install Beautiful Soup\n",
        "!pip install beautifulsoup4"
      ],
      "execution_count": null,
      "outputs": [
        {
          "output_type": "stream",
          "text": [
            "Requirement already satisfied: beautifulsoup4 in /usr/local/lib/python3.7/dist-packages (4.6.3)\n"
          ],
          "name": "stdout"
        }
      ]
    },
    {
      "cell_type": "code",
      "metadata": {
        "id": "oy0G6a9R1CUX"
      },
      "source": [
        "#Collect school news\n",
        "#https://www.asia.edu.tw/EN/news1.php?y=2020\n",
        "from bs4 import BeautifulSoup\n",
        "from urllib import request\n",
        "with request.urlopen('https://www.asia.edu.tw/EN/news1.php?y=2021') as response:\n",
        "    html = response.read().decode('utf-8')\n",
        "    soup = BeautifulSoup(html)\n",
        "    print(soup.prettify())\n"
      ],
      "execution_count": null,
      "outputs": []
    },
    {
      "cell_type": "code",
      "metadata": {
        "colab": {
          "base_uri": "https://localhost:8080/"
        },
        "id": "53cArS_96PbS",
        "outputId": "509a8838-3e99-435a-c3cf-8809fdca2c49"
      },
      "source": [
        "soup.find('span')"
      ],
      "execution_count": 2,
      "outputs": [
        {
          "output_type": "execute_result",
          "data": {
            "text/plain": [
              "<span style=\"vertical-align: bottom\"><b> |</b></span>"
            ]
          },
          "metadata": {
            "tags": []
          },
          "execution_count": 2
        }
      ]
    },
    {
      "cell_type": "code",
      "metadata": {
        "id": "Z0LmVNoR6VvX"
      },
      "source": [
        "soup.find_all('span')\n",
        "# Returns a list of all span elements"
      ],
      "execution_count": null,
      "outputs": []
    },
    {
      "cell_type": "code",
      "metadata": {
        "colab": {
          "base_uri": "https://localhost:8080/"
        },
        "id": "LbHdheIfCpL9",
        "outputId": "c9ff0158-39e1-425e-b93f-3a5f38fe53d7"
      },
      "source": [
        "print(soup.title.string)"
      ],
      "execution_count": null,
      "outputs": [
        {
          "output_type": "stream",
          "text": [
            "Asia University, Taiwan 歡迎光臨亞洲大學全球資訊網\n"
          ],
          "name": "stdout"
        }
      ]
    },
    {
      "cell_type": "code",
      "metadata": {
        "colab": {
          "base_uri": "https://localhost:8080/"
        },
        "id": "k_0F3nX3DZ9H",
        "outputId": "98135c0e-d5f9-41a1-b483-9874bfa3d043"
      },
      "source": [
        "import re\n",
        "for uuu in soup.find_all('a',href = re.compile('.*news1_detail.php.*')):\n",
        "    caption = uuu.find('b')\n",
        "    if caption:\n",
        "      print(caption.getText())"
      ],
      "execution_count": 8,
      "outputs": [
        {
          "output_type": "stream",
          "text": [
            "Asia University Celebrates Her 20th Anniversary, Receiving International Gifts of High World Rankings!\n",
            "President Jeffrey J. P. Tsai (蔡進發) and Asia University’s Aspiration\n",
            "Students of Asia University Win the Awards of the 2020 AI CUP Hosted by the Ministry of Education for Two Executive Years\n",
            "Asia University Added World Renowned Scientist Ruth Arnon to its International Advisory Board\n",
            "Asia University Establishes a First International Advisory Board\n",
            "Entering Asia University and Going to a Well-Known Foreign Sister University to Get an Undergraduate Degree and a Master's Degree in Five Years ---\n",
            "Students of the Department of Nursing at AU Win a Gold Medal of “2020 Cochrane Empirical Medicine Microfilm Competition”\n",
            "Students of AU Win a 2020 InnoServe Award by a Masterpiece.\n",
            "AU Teaches Parents and Children to Say Goodbye to Overuse of 3C Products\n"
          ],
          "name": "stdout"
        }
      ]
    },
    {
      "cell_type": "code",
      "metadata": {
        "id": "MR-IcDDQ4o6z"
      },
      "source": [
        ""
      ],
      "execution_count": null,
      "outputs": []
    },
    {
      "cell_type": "code",
      "metadata": {
        "id": "zuOk-Jcw1Qe5"
      },
      "source": [
        "#print(html)\n",
        "import re\n",
        "count = 0\n",
        "pattern = '<font color=\"#446666\" face=\"Arial\" size=\"2\">\\['\n",
        "pattern2 = '<font color=\"#446666\" face=\"Arial\" size=\"2\"><b>'\n",
        "for pos in re.finditer(pattern, html):\n",
        "    pos2 = html.find('] </font>', pos.end())\n",
        "    datestr = html[pos.end()+1:pos2]\n",
        "    pos3 = html.find(pattern2, pos2+4)+len(pattern2)\n",
        "    pos4 = html.find('</b>', pos3)\n",
        "    titlestr = html[pos3:pos4]\n",
        "    print(f\"Date: {datestr}->Title: {titlestr}\")\n",
        "    count = count + 1"
      ],
      "execution_count": null,
      "outputs": []
    },
    {
      "cell_type": "code",
      "metadata": {
        "id": "dJ3pLTGItElB"
      },
      "source": [
        "import re\n",
        "from urllib import request\n",
        "count = 0\n",
        "sss = [\"2009\",\"2010\", \"2011\", \"2012\",\"2013\",\"2014\",\"2015\",\"2016\",\"2017\",\"2018\",\"2019\",\"2020\",\"2021\"]\n",
        "pattern = '<font color=\"#446666\" face=\"Arial\" size=\"2\">\\['\n",
        "pattern2 = '<font color=\"#446666\" face=\"Arial\" size=\"2\"><b>'\n",
        "for year in sss:\n",
        "    with request.urlopen('http://www.asia.edu.tw/EN/news1.php?y='+year) as response:\n",
        "        html = response.read().decode('utf-8')\n",
        "        #print(html)\n",
        "        for pos in re.finditer(pattern, html):\n",
        "          pos2 = html.find('] </font>', pos.end())\n",
        "          datestr = html[pos.end():pos2]\n",
        "          pos3 = html.find(pattern2, pos2+4)+len(pattern2)\n",
        "          pos4 = html.find('</b>', pos3)\n",
        "          titlestr = html[pos3:pos4]\n",
        "          print(f\"Date: {datestr}->Title: {titlestr}\")\n",
        "          count = count + 1\n",
        "print (count)"
      ],
      "execution_count": null,
      "outputs": []
    },
    {
      "cell_type": "code",
      "metadata": {
        "id": "tyyzYF7H3mWv"
      },
      "source": [
        ""
      ],
      "execution_count": null,
      "outputs": []
    },
    {
      "cell_type": "code",
      "metadata": {
        "id": "eTwpxXFW5_tc"
      },
      "source": [
        " "
      ],
      "execution_count": null,
      "outputs": []
    }
  ]
}