{
 "cells": [
  {
   "cell_type": "markdown",
   "metadata": {
    "colab_type": "text",
    "id": "lGr-I3gy0eIj"
   },
   "source": [
    "# (1)-Basic File Input/Output\n"
   ]
  },
  {
   "cell_type": "code",
   "execution_count": null,
   "metadata": {
    "colab": {},
    "colab_type": "code",
    "id": "18DYGHG70bxd"
   },
   "outputs": [],
   "source": [
    "#Read data from score.txt and print it \n",
    "fin=open('score.txt')\n",
    "for line in fin:\n",
    "  print(line.strip())\n",
    "fin.close()"
   ]
  },
  {
   "cell_type": "code",
   "execution_count": null,
   "metadata": {
    "colab": {},
    "colab_type": "code",
    "id": "lZ8GO3FK01kw"
   },
   "outputs": [],
   "source": [
    "#Read data from score.txt and count the number of students \n",
    "count=0\n",
    "fin=open('score.txt')\n",
    "for line in fin:\n",
    "  count +=1\n",
    "fin.close()\n",
    "print(\"The number is\",count)"
   ]
  },
  {
   "cell_type": "code",
   "execution_count": null,
   "metadata": {},
   "outputs": [],
   "source": [
    "#Read data from score.txt and Calculate the average score\n",
    "count=0\n",
    "fin=open('score.txt')\n",
    "for line in fin:\n",
    "  count +=1\n",
    "  columns = line.split(',')\n",
    "  math, biology = map(int,columns)\n",
    "  average = (math+biology)/2\n",
    "  print(f\"{math:>2} {biology:>2} {average:>4.1f}\")\n",
    "fin.close()"
   ]
  },
  {
   "cell_type": "code",
   "execution_count": null,
   "metadata": {
    "colab": {},
    "colab_type": "code",
    "id": "C_0OInXq031l"
   },
   "outputs": [],
   "source": [
    "#Calculate the average number of passers in the score.txt file\n",
    "count=0\n",
    "passed = 0\n",
    "fin=open('score.txt')\n",
    "for line in fin:\n",
    "  count +=1\n",
    "  columns = line.split(',')\n",
    "  math, biology = map(int,columns)\n",
    "  average = (math+biology)/2\n",
    "  if average >= 60:\n",
    "    passed +=1\n",
    "fin.close()\n",
    "print(f\"The number of the passed is {passed} in {count} students\")"
   ]
  },
  {
   "cell_type": "code",
   "execution_count": null,
   "metadata": {},
   "outputs": [],
   "source": [
    "#Using with\n",
    "count=0\n",
    "passed = 0\n",
    "#fin=open('score.txt')\n",
    "with open('score.txt') as fin:\n",
    "    for line in fin:\n",
    "      count +=1\n",
    "      columns = line.split(',')\n",
    "      math, biology = map(int,columns)\n",
    "      average = (math+biology)/2\n",
    "      if average >= 60:\n",
    "        passed +=1\n",
    "#fin.close()\n",
    "print(f\"The number of the passed is {passed} in {count} students\")"
   ]
  },
  {
   "cell_type": "markdown",
   "metadata": {},
   "source": [
    "## Exercise: Calculate the number of students whose average score is 0-40, 41-59, 60-80, 80-100"
   ]
  },
  {
   "cell_type": "code",
   "execution_count": null,
   "metadata": {},
   "outputs": [],
   "source": [
    "stats = [0, 0 ,0 , 0]\n",
    "with open('score.txt') as fin:\n",
    "    for line in fin:\n",
    "        score = int(line)\n",
    "        #from\n",
    "\n",
    "        \n",
    "        \n",
    "        \n",
    "        #to\n",
    "print(f\"0-40={stats[0]}, 41-59={stats[1]}, 60-80={stats[2]}, 80-100={stats[3]}\")    "
   ]
  }
 ],
 "metadata": {
  "colab": {
   "name": "Demo3-2.ipynb",
   "provenance": [],
   "version": "0.3.2"
  },
  "kernelspec": {
   "display_name": "Python 3",
   "language": "python",
   "name": "python3"
  },
  "language_info": {
   "codemirror_mode": {
    "name": "ipython",
    "version": 3
   },
   "file_extension": ".py",
   "mimetype": "text/x-python",
   "name": "python",
   "nbconvert_exporter": "python",
   "pygments_lexer": "ipython3",
   "version": "3.7.6"
  }
 },
 "nbformat": 4,
 "nbformat_minor": 1
}
