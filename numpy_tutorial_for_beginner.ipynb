{
  "nbformat": 4,
  "nbformat_minor": 0,
  "metadata": {
    "kernelspec": {
      "display_name": "Python 3",
      "language": "python",
      "name": "python3"
    },
    "language_info": {
      "name": "python",
      "version": "3.6.6",
      "mimetype": "text/x-python",
      "codemirror_mode": {
        "name": "ipython",
        "version": 3
      },
      "pygments_lexer": "ipython3",
      "nbconvert_exporter": "python",
      "file_extension": ".py"
    },
    "colab": {
      "name": "numpy-tutorial-for-beginner.ipynb",
      "provenance": []
    }
  },
  "cells": [
    {
      "cell_type": "markdown",
      "metadata": {
        "id": "pnvOU1eEJ1nd"
      },
      "source": [
        "# NumPy Tutorial For Beginner\n",
        "https://www.kaggle.com/abdullahsahin/numpy-tutorial-for-beginner/"
      ]
    },
    {
      "cell_type": "markdown",
      "metadata": {
        "button": false,
        "new_sheet": false,
        "run_control": {
          "read_only": false
        },
        "_uuid": "bf71945ed61b50db90d6ee39a1fe141fdcfa04fa",
        "id": "MtsEDuPNJkEk"
      },
      "source": [
        "# Introduction<a id=\"0\"></a>\n",
        "<hr>\n",
        "**NumPy** is a basic package for scientific computing. It is a **Python** language implementation which includes:\n",
        "\n",
        "* The powerful N-dimensional array structure\n",
        "* Sophisticated functions\n",
        "* Tools that can be integrated into C/C++ and Fortran code\n",
        "* Linear algebra, Fourier transform and random number features\n",
        "\n",
        "In addition to being used for scientific computing, NumPy also can be used as an efficient multi-dimensional container for general data. Because it can work with any type of data, NumPy can be integrated into multiple types of databases seamlessly and efficiently.\n",
        "\n",
        "* If you like it, thank you for you **upvotes**.\n",
        "* If you have any **question**, I will happy to hear it\n",
        "\n",
        "<hr>\n",
        "\n",
        "1. [ndarray](#1)\n",
        "2. [Create a specific array](#2)\n",
        "3. [Shape and operation](#3)\n",
        "4. [Index](#4)\n",
        "5. [Mathematics](#5)\n",
        "6. [Matrix](#6)\n",
        "7. [Random Number](#7)\n"
      ]
    },
    {
      "cell_type": "code",
      "metadata": {
        "button": false,
        "new_sheet": false,
        "run_control": {
          "read_only": false
        },
        "trusted": true,
        "_uuid": "ff2674e2b424b9119168092dd12365e68ad9d883",
        "id": "Zv4RuA8TJkEp"
      },
      "source": [
        "import numpy as np # linear algebra\n",
        "import pandas as pd # data processing, CSV file I/O (e.g. pd.read_csv)"
      ],
      "execution_count": null,
      "outputs": []
    },
    {
      "cell_type": "markdown",
      "metadata": {
        "button": false,
        "new_sheet": false,
        "run_control": {
          "read_only": false
        },
        "_uuid": "2996d40561d475c2830c57cc7a5b79f3f9a46de2",
        "id": "LHMALqCGJkEr"
      },
      "source": [
        "Basic Porperties and array creation"
      ]
    },
    {
      "cell_type": "markdown",
      "metadata": {
        "button": false,
        "new_sheet": false,
        "run_control": {
          "read_only": false
        },
        "_uuid": "cea7c5bbb1000bf27817a4482f5a1b460c6e7ecb",
        "id": "X8NprEZAJkEs"
      },
      "source": [
        "Here is an array with rank 1, and the length of the axis is 3:"
      ]
    },
    {
      "cell_type": "code",
      "metadata": {
        "button": false,
        "new_sheet": false,
        "run_control": {
          "read_only": false
        },
        "trusted": true,
        "_uuid": "e674f48ab8c4282c06f2c7ab087731d5e207c1a6",
        "id": "vlvm8-MFJkEt"
      },
      "source": [
        "[1,2,3]"
      ],
      "execution_count": null,
      "outputs": []
    },
    {
      "cell_type": "markdown",
      "metadata": {
        "button": false,
        "new_sheet": false,
        "run_control": {
          "read_only": false
        },
        "_uuid": "8de7a767363b3a783b47f66fa5e5be217f19c84b",
        "id": "3dCS1CuNJkEu"
      },
      "source": [
        "Below is an array with rank 2, and the length of the axis is 3 too:"
      ]
    },
    {
      "cell_type": "code",
      "metadata": {
        "button": false,
        "new_sheet": false,
        "run_control": {
          "read_only": false
        },
        "trusted": true,
        "_uuid": "75ac6b9d186ff23a564be6b48698641f29a360e2",
        "id": "m4vIfkJDJkEv"
      },
      "source": [
        "[[ 1, 2, 3],[ 4, 5, 6]]"
      ],
      "execution_count": null,
      "outputs": []
    },
    {
      "cell_type": "markdown",
      "metadata": {
        "button": false,
        "new_sheet": false,
        "run_control": {
          "read_only": false
        },
        "_uuid": "aeabb5140b0dbf9bef98b2817a4f5b180e0bba61",
        "id": "iD2Kjc_kJkEw"
      },
      "source": [
        "We can create an array of NumPy through the array function, for example:"
      ]
    },
    {
      "cell_type": "code",
      "metadata": {
        "button": false,
        "new_sheet": false,
        "run_control": {
          "read_only": false
        },
        "trusted": true,
        "_uuid": "aebb0040493c3eab313c247189b344f3442635a2",
        "id": "GnlHLF5CJkEw"
      },
      "source": [
        "a = np.array([1, 2, 3])\n",
        "b = np.array([(1,2,3), (4,5,6)])\n",
        "\n",
        "print(\"a: \",a)\n",
        "print(\"b: \",b)"
      ],
      "execution_count": null,
      "outputs": []
    },
    {
      "cell_type": "markdown",
      "metadata": {
        "button": false,
        "new_sheet": false,
        "run_control": {
          "read_only": false
        },
        "_uuid": "aa6f0d008d44375ccbde0404138bd5a55dea31a9",
        "id": "vF4gX7C_JkEx"
      },
      "source": [
        "Note that the square brackets are required here. And the following way of writing is wrong:"
      ]
    },
    {
      "cell_type": "code",
      "metadata": {
        "button": false,
        "new_sheet": false,
        "run_control": {
          "read_only": false
        },
        "trusted": true,
        "_uuid": "e41bd94cf1310d057c9f88d71edae0531762fae0",
        "id": "LM1afs9gJkEy"
      },
      "source": [
        "# a = np.array(1,2,3,4) # WRONG!!!"
      ],
      "execution_count": null,
      "outputs": []
    },
    {
      "cell_type": "markdown",
      "metadata": {
        "button": false,
        "new_sheet": false,
        "run_control": {
          "read_only": false
        },
        "_uuid": "1167c9394bd6be70a0c045d698f7009a9f117b6a",
        "id": "v1orYbXCJkEy"
      },
      "source": [
        "NumPy's array class is **ndarray**, which has an alias  **numpy.array**, but it's different from **array.array** in the Python standard library. The latter is just a one-dimensional array. The features of **ndarray** are as follows:\n",
        "<a id=\"1\"></a>\n",
        "<mark>[Return Contents](#0)\n",
        "<hr>\n",
        "\n",
        "* **ndarray.ndim:** the dimension number of the array. It's called rank in Python.\n",
        "* **ndarray.shape:** the dimension of the array. It's a series of numbers whose length is determined by the dimension （ndim） of the array. For example, the shape of a one-dimensional array with length n is n. And the shape of an array with n rows and m columns is n,m.\n",
        "* **ndarray.size:** the number of all elements in the array.\n",
        "* **ndarray.dtype:** the type of the element in the array, such as numpy.int32, numpy.int16, or numpy.float64.\n",
        "* **ndarray.itemsize:** the size of each element in the array, in bytes.\n",
        "* **ndarray.data:** the buffering for storing the array elements. Usually we only need to access the elements by subscripts, and don't need to access the buffer.\n",
        "\n",
        "Let's take a look at the code example:"
      ]
    },
    {
      "cell_type": "code",
      "metadata": {
        "button": false,
        "new_sheet": false,
        "run_control": {
          "read_only": false
        },
        "trusted": true,
        "_uuid": "dbe83d57fb5ea992077a6565ce3628531a50dbf3",
        "id": "s-aLMmXEJkEz"
      },
      "source": [
        "a = np.array([1, 2, 3])\n",
        "b = np.array([(1,2,3), (4,5,6)])\n",
        "\n",
        "print('a=')\n",
        "print(a)\n",
        "print(\"a's ndim {}\".format(a.ndim))\n",
        "print(\"a's shape {}\".format(a.shape))\n",
        "print(\"a's size {}\".format(a.size))\n",
        "print(\"a's dtype {}\".format(a.dtype))\n",
        "print(\"a's itemsize {}\".format(a.itemsize))\n",
        "\n",
        "print('')\n",
        "\n",
        "print('b=')\n",
        "print(b)\n",
        "print(\"b's ndim {}\".format(b.ndim))\n",
        "print(\"b's shape {}\".format(b.shape))\n",
        "print(\"b's size {}\".format(b.size))\n",
        "print(\"b's dtype {}\".format(b.dtype))\n",
        "print(\"b's itemsize {}\".format(b.itemsize))"
      ],
      "execution_count": null,
      "outputs": []
    },
    {
      "cell_type": "markdown",
      "metadata": {
        "button": false,
        "new_sheet": false,
        "run_control": {
          "read_only": false
        },
        "_uuid": "eafdd6863a8e825a9aa950913384498fa54c80ca",
        "id": "J37fRKGgJkE0"
      },
      "source": [
        "We can also specify the type of the element when creating the array, for example:"
      ]
    },
    {
      "cell_type": "code",
      "metadata": {
        "button": false,
        "new_sheet": false,
        "run_control": {
          "read_only": false
        },
        "trusted": true,
        "_uuid": "a1aef2d7545dc40ae13b82f7d23ebb21587111e1",
        "id": "JBbjJh49JkE1"
      },
      "source": [
        "c = np.array( [ [1,2], [3,4] ], dtype=complex )\n",
        "c"
      ],
      "execution_count": null,
      "outputs": []
    },
    {
      "cell_type": "markdown",
      "metadata": {
        "button": false,
        "new_sheet": false,
        "run_control": {
          "read_only": false
        },
        "_uuid": "13627c7fab3119daf7be184a0f42f8ed60a2f40f",
        "id": "sZPCtR9IJkE1"
      },
      "source": [
        "## Create a specific array<a id=\"2\"></a>\n",
        "<mark>[Return Contents](#0)\n",
        "<hr>\n",
        "\n",
        "In actual project engineering, we often need some specific data, and some helper functions are provided in NumPy:\n",
        "\n",
        "* **zeros:** used to create an array whose elements are all 0\n",
        "* **ones:** used to create an array whose elements are all 1\n",
        "* **empty:** used to create uninitialized data. so the content is undefined.\n",
        "* **arange:** used to create an array by specifying the scope and step-length\n",
        "* **linespace:** used to create an array by specifying the range and the number of elements\n",
        "* **random:** used to generate random numbers"
      ]
    },
    {
      "cell_type": "code",
      "metadata": {
        "button": false,
        "new_sheet": false,
        "run_control": {
          "read_only": false
        },
        "trusted": true,
        "_uuid": "efc52c4adbc234364c5e4aae77a207387c5b941c",
        "id": "oHkU9yESJkE2"
      },
      "source": [
        "a = np.zeros((2,3))\n",
        "print('np.zeros((2,3)= \\n{}\\n'.format(a))\n",
        "\n",
        "b = np.ones((2,3))\n",
        "print('np.ones((2,3))= \\n{}\\n'.format(b))\n",
        "\n",
        "c = np.empty((2,3))\n",
        "print('np.empty((2,3))= \\n{}\\n'.format(c))\n",
        "\n",
        "d = np.arange(1, 2, 0.3)\n",
        "print('np.arange(1, 2, 0.3)= \\n{}\\n'.format(d))\n",
        "\n",
        "e = np.linspace(1, 2, 7)\n",
        "print('np.linspace(1, 2, 7)= \\n{}\\n'.format(e))\n",
        "\n",
        "f = np.random.random((2,3))\n",
        "print('np.random.random((2,3))= \\n{}\\n'.format(f))"
      ],
      "execution_count": null,
      "outputs": []
    },
    {
      "cell_type": "markdown",
      "metadata": {
        "button": false,
        "new_sheet": false,
        "run_control": {
          "read_only": false
        },
        "_uuid": "fd4eef4ed6dcb4a0e3041b235d3d2461e66b817f",
        "id": "L4JlZDi0JkE3"
      },
      "source": [
        "## Shape and operation<a id=\"3\"></a>\n",
        "<mark>[Return Contents](#0)\n",
        "<hr>\n",
        "\n",
        "In addition to generating an array, after we have held some data, we may need to generate some new data structures based on the existing array. In this case, we can use the following functions:\n",
        "\n",
        "* **reshape:** used to generate a new array based on the existing array and the specified shape\n",
        "* **vstack:** used to stack multiple arrays in vertical direction (the dimensions of the array must be matched)\n",
        "* **hstack:** used to stack multiple arrays in horizontal direction (the dimensions of the array must be matched)\n",
        "* **hsplit:** used to split the array horizontally\n",
        "* **vsplit:** used to split the array vertically\n",
        "\n",
        "We'll use some examples to illustrate.\n",
        "\n",
        "To make it easier to test, let's create a few data:\n",
        "\n",
        "* **zero_line:** an array with a row containing three 0\n",
        "* **one_column:** an array with a column containing three 1\n",
        "* **a:** a matrix with 2 rows and 3 columns\n",
        "* **b:** an integer array in the interval of [11,20]"
      ]
    },
    {
      "cell_type": "code",
      "metadata": {
        "button": false,
        "new_sheet": false,
        "run_control": {
          "read_only": false
        },
        "trusted": true,
        "_uuid": "183a876e8c1fb4a04fcdebb5fe5f80357f2c6455",
        "id": "SzvMKChVJkE4"
      },
      "source": [
        "zero_line = np.zeros((1,3))\n",
        "one_column = np.ones((3,1))\n",
        "print(\"zero_line = \\n{}\\n\".format(zero_line))\n",
        "print(\"one_column = \\n{}\\n\".format(one_column))\n",
        "\n",
        "a = np.array([(1,2,3), (4,5,6)])\n",
        "b = np.arange(11, 20)\n",
        "print(\"a = \\n{}\\n\".format(a))\n",
        "print(\"b = \\n{}\\n\".format(b))"
      ],
      "execution_count": null,
      "outputs": []
    },
    {
      "cell_type": "markdown",
      "metadata": {
        "button": false,
        "new_sheet": false,
        "run_control": {
          "read_only": false
        },
        "_uuid": "965b93ea00a0024b9e8820d5bf3d802e9e7e29f9",
        "id": "bLKB0SzhJkE5"
      },
      "source": [
        "The array b is a one-dimensional array originally, and we resize it into a matrix of 3 rows and 3 columns by the reshape method:"
      ]
    },
    {
      "cell_type": "code",
      "metadata": {
        "button": false,
        "new_sheet": false,
        "run_control": {
          "read_only": false
        },
        "trusted": true,
        "_uuid": "4d505f232ce6286451728e4f85b12d9bdde64654",
        "id": "UQLW2mF6JkE6"
      },
      "source": [
        "b = b.reshape(3, -1)\n",
        "print(\"b.reshape(3, -1) = \\n{}\\n\".format(b))"
      ],
      "execution_count": null,
      "outputs": []
    },
    {
      "cell_type": "markdown",
      "metadata": {
        "button": false,
        "new_sheet": false,
        "run_control": {
          "read_only": false
        },
        "_uuid": "54983a9eb06f0696c16e154aa9dc82b10694c9af",
        "id": "6ef4qDACJkE6"
      },
      "source": [
        "The second parameter here is set to -1, which means that it'll be determined based on actual conditions automatically. Since the array has 9 elements originally, the matrix after being resized is 3X3. The code output is as follows:"
      ]
    },
    {
      "cell_type": "code",
      "metadata": {
        "button": false,
        "new_sheet": false,
        "run_control": {
          "read_only": false
        },
        "trusted": true,
        "_uuid": "734fb79e97a046f2af59d1baf28cebcda11b7c98",
        "id": "8nN4JK71JkE7"
      },
      "source": [
        "b.reshape(3, -1)"
      ],
      "execution_count": null,
      "outputs": []
    },
    {
      "cell_type": "markdown",
      "metadata": {
        "button": false,
        "new_sheet": false,
        "run_control": {
          "read_only": false
        },
        "_uuid": "a78d85d3cc1a16f67c4d1df518064d9f6655a9d0",
        "id": "b7tOikiyJkE8"
      },
      "source": [
        "Next, we'll stack the three arrays vertically through the vstack function:"
      ]
    },
    {
      "cell_type": "code",
      "metadata": {
        "button": false,
        "new_sheet": false,
        "run_control": {
          "read_only": false
        },
        "trusted": true,
        "_uuid": "0b792ff88126b66792f6d9cd7231935391a449ac",
        "id": "5rMl-2oZJkE8"
      },
      "source": [
        "c = np.vstack((a, b, zero_line))\n",
        "print(\"c = np.vstack((a,b, zero_line)) = \\n{}\\n\".format(c))"
      ],
      "execution_count": null,
      "outputs": []
    },
    {
      "cell_type": "markdown",
      "metadata": {
        "button": false,
        "new_sheet": false,
        "run_control": {
          "read_only": false
        },
        "_uuid": "ebe627c6bcccc9bcc539ab5016ee41d918970782",
        "id": "pXaHSpeAJkE9"
      },
      "source": [
        "Similarly, we can also use the hstack for horizontal stacking. This time we need to adjust the structure of the array a first:"
      ]
    },
    {
      "cell_type": "code",
      "metadata": {
        "button": false,
        "new_sheet": false,
        "run_control": {
          "read_only": false
        },
        "trusted": true,
        "_uuid": "741a43b359a2c9d749f8de79cabbb5c9a8424e4e",
        "id": "9T0o0XOaJkE9"
      },
      "source": [
        "a = a.reshape(3, 2)\n",
        "print(\"a.reshape(3, 2) = \\n{}\\n\".format(a))\n",
        "\n",
        "d = np.hstack((a, b, one_column))\n",
        "print(\"d = np.hstack((a,b, one_column)) = \\n{}\\n\".format(d))"
      ],
      "execution_count": null,
      "outputs": []
    },
    {
      "cell_type": "markdown",
      "metadata": {
        "button": false,
        "new_sheet": false,
        "run_control": {
          "read_only": false
        },
        "_uuid": "da72cee4b256e82e012acd360bde444f24753bb5",
        "id": "o0ZmxZRAJkE-"
      },
      "source": [
        "Next, let's take a look at the split. First, we split the array d into three arrays in horizontal direction. Then we print out the middle one (the subscript is 1):"
      ]
    },
    {
      "cell_type": "code",
      "metadata": {
        "button": false,
        "new_sheet": false,
        "run_control": {
          "read_only": false
        },
        "trusted": true,
        "_uuid": "49410d8c4a2de4401e68ae9482a04dcedf0fb255",
        "id": "cLvZqHcmJkE_"
      },
      "source": [
        "e = np.hsplit(d, 3) # Split a into 3\n",
        "print(\"e = np.hsplit(d, 3) = \\n{}\\n\".format(e))\n",
        "print(\"e[1] = \\n{}\\n\".format(e[1]))"
      ],
      "execution_count": null,
      "outputs": []
    },
    {
      "cell_type": "markdown",
      "metadata": {
        "button": false,
        "new_sheet": false,
        "run_control": {
          "read_only": false
        },
        "_uuid": "850665290468de42b4600b8ada00106bfbde0fd6",
        "id": "uSFIcRpDJkE_"
      },
      "source": [
        "In addition to specifying number to split the array evenly, we can also specify the number of columns to split. The following is to split the array d from the first column and the third column:"
      ]
    },
    {
      "cell_type": "code",
      "metadata": {
        "button": false,
        "new_sheet": false,
        "run_control": {
          "read_only": false
        },
        "trusted": true,
        "_uuid": "83c2e07835fad242fa05bfc21bb5c1933f98b630",
        "id": "VbmwrbapJkFA"
      },
      "source": [
        "f = np.hsplit(d, (1, 3)) # # Split a after the 1st and the 3rd column\n",
        "print(\"f = np.hsplit(d, (1, 3)) = \\n{}\\n\".format(f))"
      ],
      "execution_count": null,
      "outputs": []
    },
    {
      "cell_type": "markdown",
      "metadata": {
        "button": false,
        "new_sheet": false,
        "run_control": {
          "read_only": false
        },
        "_uuid": "cd147a6ef41ef2e15d1001cc324d41193ec055ad",
        "id": "pmRC43kLJkFA"
      },
      "source": [
        "Finally, we split the array d in the vertical direction. Similarly, if the specified number cannot make the array be split evenly, it will fail:"
      ]
    },
    {
      "cell_type": "code",
      "metadata": {
        "button": false,
        "new_sheet": false,
        "run_control": {
          "read_only": false
        },
        "trusted": true,
        "_uuid": "12eb3db4e0596f056b5ee4314d57ca5e67ad3106",
        "id": "kTEltzk-JkFA"
      },
      "source": [
        "g = np.vsplit(d, 3)\n",
        "print(\"np.hsplit(d, 2) = \\n{}\\n\".format(g))\n",
        "\n",
        "# np.vsplit(d, 2) # ValueError: array split does not result in an equal division"
      ],
      "execution_count": null,
      "outputs": []
    },
    {
      "cell_type": "markdown",
      "metadata": {
        "button": false,
        "new_sheet": false,
        "run_control": {
          "read_only": false
        },
        "_uuid": "1860b6716e3db57b6d302afdd6f68edb608c23f3",
        "id": "7YmOBOGCJkFB"
      },
      "source": [
        "## Index<a id=\"4\"></a>\n",
        "<mark>[Return Contents](#0)\n",
        "<hr>\n",
        "\n",
        "Next we look at how to access the data in the NumPy array.\n",
        "\n",
        "Again, for testing convenience, let's create a one-dimensional array first. Its content is integers in the interval of [100,200).\n",
        "\n",
        "Basically, we can specify the subscripts by array[index] to access the elements of the array."
      ]
    },
    {
      "cell_type": "code",
      "metadata": {
        "button": false,
        "new_sheet": false,
        "run_control": {
          "read_only": false
        },
        "trusted": true,
        "_uuid": "50f45c6c7e780069549a2e186f5cb705d46d685a",
        "id": "dYQYXBPEJkFB"
      },
      "source": [
        "base_data = np.arange(100, 200)\n",
        "print(\"base_data\\n={}\\n\".format(base_data))\n",
        "\n",
        "print(\"base_data[10] = {}\\n\".format(base_data[10]))"
      ],
      "execution_count": null,
      "outputs": []
    },
    {
      "cell_type": "markdown",
      "metadata": {
        "button": false,
        "new_sheet": false,
        "run_control": {
          "read_only": false
        },
        "_uuid": "9f51fb2baca7b095cb14d63d096733c536076dc0",
        "id": "cjF_oRg_JkFC"
      },
      "source": [
        "In NumPy, we can create an array containing several subscripts to get the elements in the target array. For example:"
      ]
    },
    {
      "cell_type": "code",
      "metadata": {
        "button": false,
        "new_sheet": false,
        "run_control": {
          "read_only": false
        },
        "trusted": true,
        "_uuid": "99408ffa558ae8b9332aa9753c3dc8d1c119f681",
        "id": "bApek4uTJkFC"
      },
      "source": [
        "every_five = np.arange(0, 100, 5)\n",
        "print(\"base_data[every_five] = \\n{}\\n\".format(\n",
        "    base_data[every_five]))"
      ],
      "execution_count": null,
      "outputs": []
    },
    {
      "cell_type": "markdown",
      "metadata": {
        "button": false,
        "new_sheet": false,
        "run_control": {
          "read_only": false
        },
        "_uuid": "8735fdc0428754458b3a23cdf58d2818b59098a5",
        "id": "gqDqBjAOJkFD"
      },
      "source": [
        "The subscript array can be one-dimensional, or multi-dimensional. Let's suppose that we want to get a 2X2 matrix whose content comes from the four subscripts of 1, 2, 10, and 20 in the target array, so the code can be written:"
      ]
    },
    {
      "cell_type": "code",
      "metadata": {
        "button": false,
        "new_sheet": false,
        "run_control": {
          "read_only": false
        },
        "trusted": true,
        "_uuid": "d434066f61772de0c12e6fd8c3c7eb94852ccfb7",
        "id": "G0RgnNKeJkFD"
      },
      "source": [
        "a = np.array([(1,2), (10,20)])\n",
        "print(\"a = \\n{}\\n\".format(a))\n",
        "print(\"base_data[a] = \\n{}\\n\".format(base_data[a]))"
      ],
      "execution_count": null,
      "outputs": []
    },
    {
      "cell_type": "markdown",
      "metadata": {
        "button": false,
        "new_sheet": false,
        "run_control": {
          "read_only": false
        },
        "_uuid": "7dd58d1c2c948be7a0e8c0bbd9e586011c44cbe3",
        "id": "IoJ7r3fcJkFE"
      },
      "source": [
        "The above we see is the case where the target array is one-dimensional. Let's convert the following array into a 10X10 two-dimensional array."
      ]
    },
    {
      "cell_type": "code",
      "metadata": {
        "button": false,
        "new_sheet": false,
        "run_control": {
          "read_only": false
        },
        "trusted": true,
        "_uuid": "8a1576f10685c5e37d796f7350b4687123132491",
        "id": "TiN6lpfOJkFE"
      },
      "source": [
        "base_data2 = base_data.reshape(10, -1)\n",
        "print(\"base_data2 = np.reshape(base_data, (10, -1)) = \\n{}\\n\".format(base_data2))"
      ],
      "execution_count": null,
      "outputs": []
    },
    {
      "cell_type": "markdown",
      "metadata": {
        "button": false,
        "new_sheet": false,
        "run_control": {
          "read_only": false
        },
        "_uuid": "f3f6be4a7fd80a1fee342b3b8c22dbc07b6979f1",
        "id": "o6GonrziJkFF"
      },
      "source": [
        "For a two-dimensional array,\n",
        "\n",
        "* if we only specify one subscript, the result of the access is still an array.\n",
        "* if we specify two subscripts,  the result of the access is the elements inside.\n",
        "* we can also specify the last element by \"-1\"."
      ]
    },
    {
      "cell_type": "code",
      "metadata": {
        "button": false,
        "new_sheet": false,
        "run_control": {
          "read_only": false
        },
        "trusted": true,
        "_uuid": "c0808ae64994a8ddc782e048de38fc91ded514cd",
        "id": "iem5Nfc0JkFF"
      },
      "source": [
        "print(\"base_data2[2] = \\n{}\\n\".format(base_data2[2]))\n",
        "print(\"base_data2[2, 3] = \\n{}\\n\".format(base_data2[2, 3]))\n",
        "print(\"base_data2[-1, -1] = \\n{}\\n\".format(base_data2[-1, -1]))"
      ],
      "execution_count": null,
      "outputs": []
    },
    {
      "cell_type": "markdown",
      "metadata": {
        "button": false,
        "new_sheet": false,
        "run_control": {
          "read_only": false
        },
        "_uuid": "697c271a0333c44ba183195e79569e473c1e5b4d",
        "id": "86ib70oLJkFG"
      },
      "source": [
        "In addition, we can also specify the scope by \":\", such as: 2:5 . Only to write \":\" indicates the full scope.\n",
        "\n",
        "Please see the code below:\n",
        "\n",
        "It will:\n",
        "\n",
        "* get all the elements of the row whose subscript is 2\n",
        "* get all the elements of the column whose subscript is 3\n",
        "* get all the elements of the rows whose subscripts are in [2,5) and the columns * whose subscripts are in [2,4). Please observe the following output carefully:"
      ]
    },
    {
      "cell_type": "code",
      "metadata": {
        "button": false,
        "new_sheet": false,
        "run_control": {
          "read_only": false
        },
        "trusted": true,
        "_uuid": "d815b60dafc48b9bc6752bab52e380fc255b7912",
        "id": "6B0IknEjJkFH"
      },
      "source": [
        "print(\"base_data2[2, :]] = \\n{}\\n\".format(base_data2[2, :]))\n",
        "print(\"base_data2[:, 3]] = \\n{}\\n\".format(base_data2[:, 3]))\n",
        "print(\"base_data2[2:5, 2:4]] = \\n{}\\n\".format(base_data2[2:5, 2:4]))"
      ],
      "execution_count": null,
      "outputs": []
    },
    {
      "cell_type": "markdown",
      "metadata": {
        "button": false,
        "new_sheet": false,
        "run_control": {
          "read_only": false
        },
        "_uuid": "6392e02699f97abb3b2a92d8f43461121b1ac3e1",
        "id": "0pLACcTpJkFH"
      },
      "source": [
        "## Mathematics<a id=\"5\"></a>\n",
        "<mark>[Return Contents](#0)\n",
        "<hr>"
      ]
    },
    {
      "cell_type": "markdown",
      "metadata": {
        "button": false,
        "new_sheet": false,
        "run_control": {
          "read_only": false
        },
        "_uuid": "b2916d268046ecc168235673b101b48935086d0b",
        "id": "aUlOSSJLJkFI"
      },
      "source": [
        "There are also a lot of mathematical functions in NumPy. Here are some examples."
      ]
    },
    {
      "cell_type": "code",
      "metadata": {
        "button": false,
        "new_sheet": false,
        "run_control": {
          "read_only": false
        },
        "trusted": true,
        "_uuid": "7bbef723ae17c3b93003964cd0f81346dbc67670",
        "id": "wdvobFm1JkFI"
      },
      "source": [
        "base_data = (np.random.random((5, 5)) - 0.5) * 100\n",
        "print(\"base_data = \\n{}\\n\".format(base_data))\n",
        "\n",
        "print(\"np.amin(base_data) = {}\".format(np.amin(base_data)))\n",
        "print(\"np.amax(base_data) = {}\".format(np.amax(base_data)))\n",
        "print(\"np.average(base_data) = {}\".format(np.average(base_data)))\n",
        "print(\"np.sum(base_data) = {}\".format(np.sum(base_data)))\n",
        "print(\"np.sin(base_data) = \\n{}\".format(np.sin(base_data)))"
      ],
      "execution_count": null,
      "outputs": []
    },
    {
      "cell_type": "code",
      "metadata": {
        "trusted": true,
        "_uuid": "f0509daea35041de88510b1f1caa0ea709437ecd",
        "id": "EtvIdFPHJkFJ"
      },
      "source": [
        "arr = np.arange(1,20)\n",
        "arr = arr * arr              #Multiplies each element by itself \n",
        "print(\"Multpiles: \",arr)\n",
        "arr = arr - arr              #Subtracts each element from itself\n",
        "print(\"Substracts: \",arr)\n",
        "arr = np.arange(1,20)\n",
        "arr = arr + arr              #Adds each element to itself\n",
        "print(\"Add: \",arr)\n",
        "arr = arr / arr              #Divides each element by itself\n",
        "print(\"Divide: \",arr)\n",
        "arr = np.arange(1,20)\n",
        "arr = arr + 50\n",
        "print(\"Add +50: \",arr)"
      ],
      "execution_count": null,
      "outputs": []
    },
    {
      "cell_type": "code",
      "metadata": {
        "trusted": true,
        "_uuid": "f1102309d7542af1da3aa05bd4b90f03385347a7",
        "id": "-NMiUsqVJkFK"
      },
      "source": [
        "print(\"Sqrt: \",np.sqrt(arr))#Returns the square root of each element \n",
        "print(\"Exp: \",np.exp(arr))     #Returns the exponentials of each element\n",
        "print(\"Sin: \",np.sin(arr))     #Returns the sin of each element\n",
        "print(\"Cos: \",np.cos(arr))     #Returns the cosine of each element\n",
        "print(\"Log: \",np.log(arr))     #Returns the logarithm of each element\n",
        "print(\"Sum: \",np.sum(arr))     #Returns the sum total of elements in the array\n",
        "print(\"Std: \",np.std(arr))     #Returns the standard deviation of in the array"
      ],
      "execution_count": null,
      "outputs": []
    },
    {
      "cell_type": "markdown",
      "metadata": {
        "button": false,
        "new_sheet": false,
        "run_control": {
          "read_only": false
        },
        "_uuid": "3fb98eb74a3551366c1a53f772398c12ebd7495c",
        "id": "K3xEff7zJkFK"
      },
      "source": [
        "## Matrix<a id=\"6\"></a>\n",
        "<mark>[Return Contents](#0)\n",
        "<hr>\n",
        "\n",
        "Now, let's take a look at how to use NumPy in a matrix way.\n",
        "\n",
        "First, let's create a 5X5 random integer matrix. There are two ways to get the transpose of a matrix: **.T** or **transpose** function. In addition, the matrix can be multiplied through the **dot** function. The sample code is as follows:"
      ]
    },
    {
      "cell_type": "code",
      "metadata": {
        "button": false,
        "new_sheet": false,
        "run_control": {
          "read_only": false
        },
        "trusted": true,
        "_uuid": "90e3bbc6a73de40f270d3e5ef24826b25b5c2d04",
        "id": "nPQgAs0PJkFK"
      },
      "source": [
        "base_data = np.floor((np.random.random((5, 5)) - 0.5) * 100)\n",
        "print(\"base_data = \\n{}\\n\".format(base_data))\n",
        "\n",
        "print(\"base_data.T = \\n{}\\n\".format(base_data.T))\n",
        "print(\"base_data.transpose() = \\n{}\\n\".format(base_data.transpose()))\n",
        "\n",
        "matrix_one = np.ones((5, 5))\n",
        "print(\"matrix_one = \\n{}\\n\".format(matrix_one))\n",
        "\n",
        "minus_one = np.dot(matrix_one, -1)\n",
        "print(\"minus_one = \\n{}\\n\".format(minus_one))\n",
        "\n",
        "print(\"np.dot(base_data, minus_one) = \\n{}\\n\".format(\n",
        "    np.dot(base_data, minus_one)))"
      ],
      "execution_count": null,
      "outputs": []
    },
    {
      "cell_type": "markdown",
      "metadata": {
        "button": false,
        "new_sheet": false,
        "run_control": {
          "read_only": false
        },
        "_uuid": "0395dea256448fda62ac24ec0f2ac755afff1689",
        "id": "w6KfcOm_JkFL"
      },
      "source": [
        "## Random Number<a id=\"7\"></a>\n",
        "<mark>[Return Contents](#0)\n",
        "<hr>\n",
        "\n",
        "At the end of the article, let's take a look at the use of random numbers.\n",
        "\n",
        "Random numbers are a feature we use very often during the programming process, such as generating demo data, or disordering existing data sequence randomly to segment the modeling data and the verification data.\n",
        "\n",
        "The numpy.random package contains a number of algorithms for random numbers. Here we list the four most common usage:\n",
        "\n",
        "The four usages are:\n",
        "\n",
        "* to generate 20 random numbers, each of which is between **[0.0, 1.0)**\n",
        "* to generate a random number based on the specified **shape**\n",
        "* to generate a specified number (such as 20) of random integers within the specified range (such as **[0, 100)**)\n",
        "* to disorder the sequence of the existing data (**[0, 1, 2, ..., 19]**) randomly\n",
        "The output is as follows:"
      ]
    },
    {
      "cell_type": "code",
      "metadata": {
        "button": false,
        "new_sheet": false,
        "run_control": {
          "read_only": false
        },
        "trusted": true,
        "_uuid": "ac8fcb29ab38c97ab39e8c30d0aa32221d78950e",
        "id": "CDLJ2LY9JkFL"
      },
      "source": [
        "print(\"random: {}\\n\".format(np.random.random(20)));\n",
        "\n",
        "print(\"rand: {}\\n\".format(np.random.rand(3, 4)));\n",
        "\n",
        "print(\"randint: {}\\n\".format(np.random.randint(0, 100, 20)));\n",
        "\n",
        "print(\"permutation: {}\\n\".format(np.random.permutation(np.arange(20))));"
      ],
      "execution_count": null,
      "outputs": []
    }
  ]
}