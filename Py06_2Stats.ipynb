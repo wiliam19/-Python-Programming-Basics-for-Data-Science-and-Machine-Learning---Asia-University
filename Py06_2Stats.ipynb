{
 "cells": [
  {
   "cell_type": "markdown",
   "metadata": {
    "colab_type": "text",
    "id": "aBqzfXAMjjoH"
   },
   "source": [
    "## Calculate the number of students whose average score is 0-40, 41-59, 60-80, 80-100"
   ]
  },
  {
   "cell_type": "code",
   "execution_count": null,
   "metadata": {
    "colab": {},
    "colab_type": "code",
    "id": "wrLB-UccjclN"
   },
   "outputs": [],
   "source": [
    "stats = [0, 0 ,0 , 0]\n",
    "with open('score.txt') as fin:\n",
    "    for line in fin:\n",
    "        score = int(line)\n",
    "        #from\n",
    "\n",
    "        \n",
    "        \n",
    "        \n",
    "        #to\n",
    "print(\"0-40={}, 41-59={}, 60-80={}, 80-100={}\".format(stats[0],stats[1],stats[2],stats[3] ))        \n",
    "          "
   ]
  },
  {
   "cell_type": "code",
   "execution_count": null,
   "metadata": {
    "colab": {},
    "colab_type": "code",
    "id": "BWE0FTPJqvfq"
   },
   "outputs": [],
   "source": [
    "#Plot a barchart of the statistics\n",
    "import matplotlib.pyplot as plt\n",
    "import numpy as np\n",
    "stats = [4, 5 ,16 , 47]\n",
    "slots = ('0-40', '41-59', '60-80', '80-100')\n",
    "y_pos = np.arange(len(slots))\n",
    "plt.bar(y_pos, stats, align='center', alpha=0.5)\n",
    "plt.xticks(y_pos, slots)\n",
    "plt.ylabel('Count')\n",
    "plt.title('Result of exam')\n",
    "plt.show()"
   ]
  },
  {
   "cell_type": "markdown",
   "metadata": {},
   "source": [
    "## sorting the avgerage score"
   ]
  },
  {
   "cell_type": "code",
   "execution_count": null,
   "metadata": {
    "colab": {},
    "colab_type": "code",
    "id": "vYCizTyfscZC"
   },
   "outputs": [],
   "source": [
    "scores=list()\n",
    "#Calculate the average number of passers in the score.txt file\n",
    "with open('score.txt') as fin:\n",
    "    for line in fin:\n",
    "      columns = line.split(',')\n",
    "      math, biology = map(int,columns)\n",
    "      average = (math+biology)/2\n",
    "      scores.append((math, biology, average))\n",
    "\n",
    "print(\"The scores before sorting\")  \n",
    "for math, biology, average in scores:\n",
    "    print(f\"{math:>2} {biology:>2} {average:>4.1f}\")"
   ]
  },
  {
   "cell_type": "code",
   "execution_count": null,
   "metadata": {},
   "outputs": [],
   "source": [
    "scores2=sorted(scores, key=lambda ss: ss[2], reverse = True) \n",
    "print(\"The scores after sorting\")  \n",
    "for math, biology, average in scores2:\n",
    "    print(f\"{math:>2} {biology:>2} {average:>4.1f}\")"
   ]
  },
  {
   "cell_type": "code",
   "execution_count": null,
   "metadata": {
    "colab": {},
    "colab_type": "code",
    "id": "ktfLS3-Bug1I"
   },
   "outputs": [],
   "source": [
    "with open('sorted.txt','w') as fout:\n",
    "    for math, biology, average in scores2:\n",
    "       fout.write(f\"{math:>2}, {biology:>2}, {average:>4.1f}\\n\")"
   ]
  },
  {
   "cell_type": "code",
   "execution_count": null,
   "metadata": {
    "colab": {},
    "colab_type": "code",
    "id": "BXoWDauOxyEQ"
   },
   "outputs": [],
   "source": [
    "!ls"
   ]
  }
 ],
 "metadata": {
  "colab": {
   "name": "Demo3-3.ipynb",
   "provenance": [],
   "toc_visible": true,
   "version": "0.3.2"
  },
  "kernelspec": {
   "display_name": "Python 3",
   "language": "python",
   "name": "python3"
  },
  "language_info": {
   "codemirror_mode": {
    "name": "ipython",
    "version": 3
   },
   "file_extension": ".py",
   "mimetype": "text/x-python",
   "name": "python",
   "nbconvert_exporter": "python",
   "pygments_lexer": "ipython3",
   "version": "3.7.6"
  }
 },
 "nbformat": 4,
 "nbformat_minor": 1
}
