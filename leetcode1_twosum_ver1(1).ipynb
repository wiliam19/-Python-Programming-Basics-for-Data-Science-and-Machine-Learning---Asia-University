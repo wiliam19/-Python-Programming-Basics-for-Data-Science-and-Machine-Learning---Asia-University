{
  "nbformat": 4,
  "nbformat_minor": 0,
  "metadata": {
    "colab": {
      "name": "leetcode1-twosum-ver1.ipynb",
      "provenance": []
    },
    "kernelspec": {
      "name": "python3",
      "display_name": "Python 3"
    }
  },
  "cells": [
    {
      "cell_type": "markdown",
      "metadata": {
        "id": "RCE6-EHZfIkL"
      },
      "source": [
        "# Excercise Leetcode problem no. 1; Two sum\r\n",
        "\r\n",
        "https://leetcode.com/problems/two-sum/\r\n",
        "\r\n",
        "IPO model"
      ]
    },
    {
      "cell_type": "code",
      "metadata": {
        "id": "cPMgHAbmemuO"
      },
      "source": [
        "#input\r\n",
        "nums = [2,7,11,15], target = 9\r\n"
      ],
      "execution_count": null,
      "outputs": []
    },
    {
      "cell_type": "code",
      "metadata": {
        "id": "_kPRgiElfC1q"
      },
      "source": [
        "#process\r\n"
      ],
      "execution_count": null,
      "outputs": []
    },
    {
      "cell_type": "code",
      "metadata": {
        "id": "ABnQ0Idde4_M"
      },
      "source": [
        "#output\r\n",
        "ans =[0, 1]"
      ],
      "execution_count": 1,
      "outputs": []
    }
  ]
}