{
  "nbformat": 4,
  "nbformat_minor": 0,
  "metadata": {
    "colab": {
      "name": "Py05-Sort.ipynb",
      "provenance": []
    },
    "kernelspec": {
      "name": "python3",
      "display_name": "Python 3"
    },
    "language_info": {
      "name": "python"
    }
  },
  "cells": [
    {
      "cell_type": "code",
      "metadata": {
        "colab": {
          "base_uri": "https://localhost:8080/"
        },
        "id": "MOWIrGt_RqNp",
        "outputId": "5bbeccc6-0997-4f94-c6ff-6c1049dde113"
      },
      "source": [
        "x = [4, 2, 5, 3, 1]\n",
        "# Sort the list\n",
        "x.sort()\n",
        "print(x)"
      ],
      "execution_count": 2,
      "outputs": [
        {
          "output_type": "stream",
          "text": [
            "[1, 2, 3, 4, 5]\n"
          ],
          "name": "stdout"
        }
      ]
    },
    {
      "cell_type": "code",
      "metadata": {
        "colab": {
          "base_uri": "https://localhost:8080/"
        },
        "id": "x-1S5mw_RW4a",
        "outputId": "dc56b268-616c-4e56-8262-e03f7ee7cad9"
      },
      "source": [
        "x = [4, 2, 5, 3, 1]\n",
        "# Sort and create a new instance of list\n",
        "y = sorted(x)\n",
        "print(y)"
      ],
      "execution_count": 1,
      "outputs": [
        {
          "output_type": "stream",
          "text": [
            "[1, 2, 3, 4, 5]\n"
          ],
          "name": "stdout"
        }
      ]
    },
    {
      "cell_type": "code",
      "metadata": {
        "id": "3zF50kW2R0u_"
      },
      "source": [
        "x = [4, 2, 5, 3, 1]\n",
        "\n",
        "# Reverse\n",
        "x.sort(reverse = True)\n",
        "print(x)"
      ],
      "execution_count": null,
      "outputs": []
    },
    {
      "cell_type": "code",
      "metadata": {
        "id": "M0jPOkgkR04M"
      },
      "source": [
        "x = [4, 2, 5, 3, 1]\n",
        "\n",
        "# Reverse\n",
        "y = sorted(x, reverse = True)\n",
        "print(y)"
      ],
      "execution_count": null,
      "outputs": []
    }
  ]
}