{
  "nbformat": 4,
  "nbformat_minor": 0,
  "metadata": {
    "colab": {
      "name": "Py05-3Sum.ipynb",
      "provenance": [],
      "collapsed_sections": []
    },
    "kernelspec": {
      "name": "python3",
      "display_name": "Python 3"
    },
    "language_info": {
      "name": "python"
    }
  },
  "cells": [
    {
      "cell_type": "code",
      "metadata": {
        "id": "U2ZRmreZSlWD"
      },
      "source": [
        "nums = [-1,0,1,2,-1,-4]\n",
        "nums"
      ],
      "execution_count": null,
      "outputs": []
    },
    {
      "cell_type": "code",
      "metadata": {
        "id": "tDM3rLQNUSCp"
      },
      "source": [
        "nums.sort()\n",
        "print(nums)"
      ],
      "execution_count": null,
      "outputs": []
    },
    {
      "cell_type": "code",
      "metadata": {
        "id": "sjYdbah_SpOj"
      },
      "source": [
        "import itertools as it\n",
        "sss=list(it.combinations(nums, 3))\n",
        "print(sss)"
      ],
      "execution_count": null,
      "outputs": []
    },
    {
      "cell_type": "code",
      "metadata": {
        "id": "0zxeQ9mPVAkH"
      },
      "source": [
        "for x in sss:\n",
        "  key = str(x)\n",
        "  print(key)"
      ],
      "execution_count": null,
      "outputs": []
    },
    {
      "cell_type": "code",
      "metadata": {
        "id": "4buwtWkIU2uG"
      },
      "source": [
        "m = set()\n",
        "ans =[]\n",
        "for x in sss:\n",
        "  i = sum(x)\n",
        "  if i == 0:\n",
        "    key = str(x)\n",
        "    if key not in m:\n",
        "      ans.append(list(x))\n",
        "      m.add(key)\n",
        "print(ans)"
      ],
      "execution_count": null,
      "outputs": []
    },
    {
      "cell_type": "code",
      "metadata": {
        "id": "_CbBgk71YnvS"
      },
      "source": [
        "def twosum(nums, target):\n",
        "  dmap =dict()\n",
        "  ans= []\n",
        "  for i1, num1 in enumerate(nums):\n",
        "      dmap[num1]=i1\n",
        "\n",
        "  for i1, num1 in enumerate(nums):\n",
        "      num2 = target - num1\n",
        "      if num2 in dmap:\n",
        "          i2=dmap[num2]\n",
        "          if i1 >= i2:\n",
        "            continue\n",
        "          ans.append([i1, i2])  #e.g., [0, 1]\n",
        "  return ans"
      ],
      "execution_count": null,
      "outputs": []
    },
    {
      "cell_type": "code",
      "metadata": {
        "id": "KW_G2-dHZbmV"
      },
      "source": [
        "ans = []\n",
        "m = set()\n",
        "for i, num1 in enumerate(nums):\n",
        "      rems = nums[i+1:]\n",
        "      target = -num1\n",
        "      two = twosum(rems, target)\n",
        "      for i1, i2 in two:\n",
        "        num2 = rems[i1]\n",
        "        num3 = rems[i2]\n",
        "        x = [num1, num2, num3]\n",
        "        key = str(x)\n",
        "        if key not in m:\n",
        "          ans.append(list(x))\n",
        "          m.add(key)\n",
        "print(ans)"
      ],
      "execution_count": null,
      "outputs": []
    },
    {
      "cell_type": "code",
      "metadata": {
        "id": "DX1QyJRliP_0"
      },
      "source": [
        "nums = [-1,0,1,2,-1,-4]\n",
        "nums.sort()\n",
        "print(nums)\n",
        "dmap =dict()\n",
        "for i1, num1 in enumerate(nums):\n",
        "    if num1 not in dmap:\n",
        "        dmap[num1]=i1\n",
        "ans = []\n",
        "m = set()\n",
        "for i1 in range(len(nums)-2):\n",
        "    num1 = nums[i1] \n",
        "    target = -num1 \n",
        "    for i2 in range(i1+1,len(nums)-1):\n",
        "        num2 = nums[i2]\n",
        "        num3 = target -num2\n",
        "        if num3 in dmap:\n",
        "          i3 = dmap[num3]\n",
        "          if i2 == i3:\n",
        "            continue\n",
        "          x = sorted([num1, num2, num3])\n",
        "          key = str(x)\n",
        "          if key not in m:\n",
        "            ans.append(list(x))\n",
        "            m.add(key)\n",
        "print(ans)"
      ],
      "execution_count": null,
      "outputs": []
    }
  ]
}