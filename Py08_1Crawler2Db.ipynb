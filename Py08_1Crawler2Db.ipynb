{
 "cells": [
  {
   "cell_type": "code",
   "execution_count": null,
   "metadata": {
    "colab": {},
    "colab_type": "code",
    "id": "oy0G6a9R1CUX"
   },
   "outputs": [],
   "source": [
    "#Collect school news\n",
    "#https://www.asia.edu.tw/EN/news1.php?y=2020\n",
    "import re\n",
    "from urllib import request\n",
    "count = 0\n",
    "sss = [\"2009\",\"2010\", \"2011\", \"2012\",\"2013\",\"2014\",\"2015\",\"2016\",\"2017\",\"2018\",\"2019\",\"2020\",\"2021\"]\n",
    "pattern = '<font color=\"#446666\" face=\"Arial\" size=\"2\">\\['\n",
    "pattern2 = '<font color=\"#446666\" face=\"Arial\" size=\"2\"><b>'\n",
    "titles= list()\n",
    "for year in sss:\n",
    "    with request.urlopen('http://www.asia.edu.tw/EN/news1.php?y='+year) as response:\n",
    "        html = response.read().decode('utf-8')\n",
    "        #print(html)\n",
    "        for pos in re.finditer(pattern, html):\n",
    "          pos2 = html.find('] </font>', pos.end())\n",
    "          datestr = html[pos.end():pos2]\n",
    "          pos3 = html.find(pattern2, pos2+4)+len(pattern2)\n",
    "          pos4 = html.find('</b>', pos3)\n",
    "          titlestr = html[pos3:pos4]\n",
    "          #print(f\"Date: {datestr}->Title: {titlestr}\")\n",
    "          titles.append(titlestr)\n",
    "          count = count + 1\n",
    "print (count)"
   ]
  },
  {
   "cell_type": "code",
   "execution_count": null,
   "metadata": {},
   "outputs": [],
   "source": [
    "for t in titles:\n",
    "  print(t)"
   ]
  },
  {
   "cell_type": "code",
   "execution_count": null,
   "metadata": {
    "colab": {},
    "colab_type": "code",
    "id": "YLk3FQkD3hB0"
   },
   "outputs": [],
   "source": [
    "!rm news.db"
   ]
  },
  {
   "cell_type": "code",
   "execution_count": null,
   "metadata": {},
   "outputs": [],
   "source": [
    "import sqlite3\n",
    "conn = sqlite3.connect('news.db')\n",
    "c = conn.cursor()\n",
    "\n",
    "# Create table\n",
    "c.execute(\"CREATE TABLE news (title text)\")\n",
    "\n",
    "conn.commit()\n",
    "conn.close()"
   ]
  },
  {
   "cell_type": "code",
   "execution_count": null,
   "metadata": {
    "colab": {},
    "colab_type": "code",
    "id": "u8pOx9nK1gz7"
   },
   "outputs": [],
   "source": [
    "#Build a database of news captions\n",
    "import sqlite3\n",
    "conn = sqlite3.connect('news.db')\n",
    "c = conn.cursor()\n",
    "\n",
    "# Insert a row of data\n",
    "for t in titles:\n",
    "    x = t.replace('\"', '`')\n",
    "    ss = f'INSERT INTO news VALUES (\"{x}\")'\n",
    "    c.execute(ss)\n",
    "    \n",
    "# Save (commit) the changes\n",
    "conn.commit()\n",
    "conn.close()"
   ]
  },
  {
   "cell_type": "code",
   "execution_count": null,
   "metadata": {
    "colab": {},
    "colab_type": "code",
    "id": "tyyzYF7H3mWv"
   },
   "outputs": [],
   "source": []
  },
  {
   "cell_type": "code",
   "execution_count": null,
   "metadata": {
    "colab": {},
    "colab_type": "code",
    "id": "xG66c6-Q4DBO"
   },
   "outputs": [],
   "source": [
    "#查詢學校新聞標題有人工智慧\n",
    "conn = sqlite3.connect('news.db')\n",
    "c = conn.cursor()\n",
    "for row in c.execute('''SELECT * FROM news \n",
    "                        WHERE title LIKE '%Jeffrey%' '''):\n",
    "    print(row)\n",
    "conn.close()"
   ]
  },
  {
   "cell_type": "code",
   "execution_count": null,
   "metadata": {
    "colab": {},
    "colab_type": "code",
    "id": "eTwpxXFW5_tc"
   },
   "outputs": [],
   "source": [
    " "
   ]
  }
 ],
 "metadata": {
  "colab": {
   "name": "Demo4-3.ipynb",
   "provenance": [],
   "version": "0.3.2"
  },
  "kernelspec": {
   "display_name": "Python 3",
   "language": "python",
   "name": "python3"
  },
  "language_info": {
   "codemirror_mode": {
    "name": "ipython",
    "version": 3
   },
   "file_extension": ".py",
   "mimetype": "text/x-python",
   "name": "python",
   "nbconvert_exporter": "python",
   "pygments_lexer": "ipython3",
   "version": "3.7.6"
  }
 },
 "nbformat": 4,
 "nbformat_minor": 1
}
